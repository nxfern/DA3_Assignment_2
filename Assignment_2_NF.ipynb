{
 "cells": [
  {
   "cell_type": "markdown",
   "id": "de89d79a-38a8-4cc3-b796-cbb1e8d58f11",
   "metadata": {},
   "source": [
    "# DA3 Assignment 2\n",
    "## AirBnB Price Prediction - Buenos Aires\n",
    "### Data from September 22, 2023\n",
    "#### Nicolas Fernandez\n",
    "The goal of this assignment is to build a price prediction model for small and mid-sized apartments that can host 2-6 guests in Buenos Aires. Several models will be constructed using different methods for comparison. Descriptions of each column available within the data can be found in detial at this link: https://docs.google.com/spreadsheets/d/1iWCNJcSutYqpULSQHlNyGInUvHg2BoUGoNRIGa6Szc4/edit#gid=1322284596"
   ]
  },
  {
   "cell_type": "code",
   "execution_count": 1,
   "id": "2b37db73-30fa-484d-8bf6-566343cf7df0",
   "metadata": {
    "tags": []
   },
   "outputs": [],
   "source": [
    "# Importing libraries\n",
    "import warnings\n",
    "warnings.filterwarnings('ignore')\n",
    "\n",
    "import pandas as pd\n",
    "import numpy as np\n",
    "import os\n",
    "from pathlib import Path\n",
    "import sys\n",
    "from patsy import dmatrices\n",
    "from sklearn.model_selection import train_test_split\n",
    "import matplotlib.pyplot as plt\n",
    "import seaborn as sns\n",
    "\n",
    "from sklearn.ensemble import RandomForestRegressor\n",
    "from sklearn.model_selection import GridSearchCV\n",
    "from sklearn.model_selection import RandomizedSearchCV\n",
    "from sklearn.impute import SimpleImputer\n",
    "from sklearn.inspection import permutation_importance\n",
    "from sklearn.inspection import PartialDependenceDisplay\n",
    "from sklearn.inspection import partial_dependence\n",
    "from sklearn.compose import ColumnTransformer\n",
    "from sklearn.pipeline import Pipeline\n",
    "from sklearn.preprocessing import OneHotEncoder\n",
    "from sklearn.metrics import mean_squared_error"
   ]
  },
  {
   "cell_type": "markdown",
   "id": "44e669ba-09ae-4596-8748-550f696595b7",
   "metadata": {},
   "source": [
    "## Get Data"
   ]
  },
  {
   "cell_type": "code",
   "execution_count": 2,
   "id": "e59819c4-1ae1-41b2-9bbd-a7d7d59ea04e",
   "metadata": {
    "tags": []
   },
   "outputs": [],
   "source": [
    "# Reading data from github\n",
    "data = pd.read_csv('https://raw.githubusercontent.com/nxfern/DA3_Assignment_2/main/listings.csv')"
   ]
  },
  {
   "cell_type": "code",
   "execution_count": 3,
   "id": "32b96dee-c42f-43af-9bf9-6bfdd72eee86",
   "metadata": {
    "scrolled": true,
    "tags": []
   },
   "outputs": [
    {
     "name": "stdout",
     "output_type": "stream",
     "text": [
      "(29346, 75)\n"
     ]
    },
    {
     "data": {
      "text/html": [
       "<div>\n",
       "<style scoped>\n",
       "    .dataframe tbody tr th:only-of-type {\n",
       "        vertical-align: middle;\n",
       "    }\n",
       "\n",
       "    .dataframe tbody tr th {\n",
       "        vertical-align: top;\n",
       "    }\n",
       "\n",
       "    .dataframe thead th {\n",
       "        text-align: right;\n",
       "    }\n",
       "</style>\n",
       "<table border=\"1\" class=\"dataframe\">\n",
       "  <thead>\n",
       "    <tr style=\"text-align: right;\">\n",
       "      <th></th>\n",
       "      <th>id</th>\n",
       "      <th>listing_url</th>\n",
       "      <th>scrape_id</th>\n",
       "      <th>last_scraped</th>\n",
       "      <th>source</th>\n",
       "      <th>name</th>\n",
       "      <th>description</th>\n",
       "      <th>neighborhood_overview</th>\n",
       "      <th>picture_url</th>\n",
       "      <th>host_id</th>\n",
       "      <th>...</th>\n",
       "      <th>review_scores_communication</th>\n",
       "      <th>review_scores_location</th>\n",
       "      <th>review_scores_value</th>\n",
       "      <th>license</th>\n",
       "      <th>instant_bookable</th>\n",
       "      <th>calculated_host_listings_count</th>\n",
       "      <th>calculated_host_listings_count_entire_homes</th>\n",
       "      <th>calculated_host_listings_count_private_rooms</th>\n",
       "      <th>calculated_host_listings_count_shared_rooms</th>\n",
       "      <th>reviews_per_month</th>\n",
       "    </tr>\n",
       "  </thead>\n",
       "  <tbody>\n",
       "    <tr>\n",
       "      <th>0</th>\n",
       "      <td>11508</td>\n",
       "      <td>https://www.airbnb.com/rooms/11508</td>\n",
       "      <td>20230922223302</td>\n",
       "      <td>2023-09-23</td>\n",
       "      <td>city scrape</td>\n",
       "      <td>Condo in Buenos Aires · ★4.81 · 1 bedroom · 1 ...</td>\n",
       "      <td>LUXURIOUS 1 BDRM APT- POOL/ GYM/ SPA/ 24-HR SE...</td>\n",
       "      <td>AREA: PALERMO SOHO&lt;br /&gt;&lt;br /&gt;Minutes walking ...</td>\n",
       "      <td>https://a0.muscache.com/pictures/19357696/b1de...</td>\n",
       "      <td>42762</td>\n",
       "      <td>...</td>\n",
       "      <td>4.97</td>\n",
       "      <td>4.94</td>\n",
       "      <td>4.89</td>\n",
       "      <td>NaN</td>\n",
       "      <td>f</td>\n",
       "      <td>1</td>\n",
       "      <td>1</td>\n",
       "      <td>0</td>\n",
       "      <td>0</td>\n",
       "      <td>0.26</td>\n",
       "    </tr>\n",
       "    <tr>\n",
       "      <th>1</th>\n",
       "      <td>107259</td>\n",
       "      <td>https://www.airbnb.com/rooms/107259</td>\n",
       "      <td>20230922223302</td>\n",
       "      <td>2023-09-23</td>\n",
       "      <td>city scrape</td>\n",
       "      <td>Rental unit in Buenos Aires · ★4.58 · 6 bedroo...</td>\n",
       "      <td>We have 7 bedrooms and 5 bathrooms,gourmet kit...</td>\n",
       "      <td>NaN</td>\n",
       "      <td>https://a0.muscache.com/pictures/822490/5bc2ab...</td>\n",
       "      <td>555693</td>\n",
       "      <td>...</td>\n",
       "      <td>4.71</td>\n",
       "      <td>4.63</td>\n",
       "      <td>4.53</td>\n",
       "      <td>NaN</td>\n",
       "      <td>f</td>\n",
       "      <td>2</td>\n",
       "      <td>2</td>\n",
       "      <td>0</td>\n",
       "      <td>0</td>\n",
       "      <td>0.28</td>\n",
       "    </tr>\n",
       "    <tr>\n",
       "      <th>2</th>\n",
       "      <td>14222</td>\n",
       "      <td>https://www.airbnb.com/rooms/14222</td>\n",
       "      <td>20230922223302</td>\n",
       "      <td>2023-09-23</td>\n",
       "      <td>city scrape</td>\n",
       "      <td>Rental unit in Palermo/Buenos Aires · ★4.79 · ...</td>\n",
       "      <td>Beautiful cozy apartment in excellent location...</td>\n",
       "      <td>Palermo is such a perfect place to explore the...</td>\n",
       "      <td>https://a0.muscache.com/pictures/4695637/bbae8...</td>\n",
       "      <td>87710233</td>\n",
       "      <td>...</td>\n",
       "      <td>4.90</td>\n",
       "      <td>4.89</td>\n",
       "      <td>4.75</td>\n",
       "      <td>NaN</td>\n",
       "      <td>f</td>\n",
       "      <td>7</td>\n",
       "      <td>7</td>\n",
       "      <td>0</td>\n",
       "      <td>0</td>\n",
       "      <td>0.81</td>\n",
       "    </tr>\n",
       "    <tr>\n",
       "      <th>3</th>\n",
       "      <td>15074</td>\n",
       "      <td>https://www.airbnb.com/rooms/15074</td>\n",
       "      <td>20230922223302</td>\n",
       "      <td>2023-09-23</td>\n",
       "      <td>previous scrape</td>\n",
       "      <td>Rental unit in Buenos Aires · 1 bedroom · 1 be...</td>\n",
       "      <td>&lt;b&gt;The space&lt;/b&gt;&lt;br /&gt;I OFFER A ROOM IN MY APA...</td>\n",
       "      <td>NaN</td>\n",
       "      <td>https://a0.muscache.com/pictures/91166/c0fdcb4...</td>\n",
       "      <td>59338</td>\n",
       "      <td>...</td>\n",
       "      <td>NaN</td>\n",
       "      <td>NaN</td>\n",
       "      <td>NaN</td>\n",
       "      <td>NaN</td>\n",
       "      <td>f</td>\n",
       "      <td>1</td>\n",
       "      <td>0</td>\n",
       "      <td>1</td>\n",
       "      <td>0</td>\n",
       "      <td>NaN</td>\n",
       "    </tr>\n",
       "    <tr>\n",
       "      <th>4</th>\n",
       "      <td>108089</td>\n",
       "      <td>https://www.airbnb.com/rooms/108089</td>\n",
       "      <td>20230922223302</td>\n",
       "      <td>2023-09-23</td>\n",
       "      <td>city scrape</td>\n",
       "      <td>Rental unit in Buenos Aires · ★4.59 · 1 bedroo...</td>\n",
       "      <td>Amazing apartment in the best area of Palermo....</td>\n",
       "      <td>Palermo is the best neighborhhod in the city.&lt;...</td>\n",
       "      <td>https://a0.muscache.com/pictures/717831/fbb7cd...</td>\n",
       "      <td>559463</td>\n",
       "      <td>...</td>\n",
       "      <td>4.77</td>\n",
       "      <td>4.94</td>\n",
       "      <td>4.66</td>\n",
       "      <td>NaN</td>\n",
       "      <td>f</td>\n",
       "      <td>4</td>\n",
       "      <td>4</td>\n",
       "      <td>0</td>\n",
       "      <td>0</td>\n",
       "      <td>0.77</td>\n",
       "    </tr>\n",
       "  </tbody>\n",
       "</table>\n",
       "<p>5 rows × 75 columns</p>\n",
       "</div>"
      ],
      "text/plain": [
       "       id                          listing_url       scrape_id last_scraped  \\\n",
       "0   11508   https://www.airbnb.com/rooms/11508  20230922223302   2023-09-23   \n",
       "1  107259  https://www.airbnb.com/rooms/107259  20230922223302   2023-09-23   \n",
       "2   14222   https://www.airbnb.com/rooms/14222  20230922223302   2023-09-23   \n",
       "3   15074   https://www.airbnb.com/rooms/15074  20230922223302   2023-09-23   \n",
       "4  108089  https://www.airbnb.com/rooms/108089  20230922223302   2023-09-23   \n",
       "\n",
       "            source                                               name  \\\n",
       "0      city scrape  Condo in Buenos Aires · ★4.81 · 1 bedroom · 1 ...   \n",
       "1      city scrape  Rental unit in Buenos Aires · ★4.58 · 6 bedroo...   \n",
       "2      city scrape  Rental unit in Palermo/Buenos Aires · ★4.79 · ...   \n",
       "3  previous scrape  Rental unit in Buenos Aires · 1 bedroom · 1 be...   \n",
       "4      city scrape  Rental unit in Buenos Aires · ★4.59 · 1 bedroo...   \n",
       "\n",
       "                                         description  \\\n",
       "0  LUXURIOUS 1 BDRM APT- POOL/ GYM/ SPA/ 24-HR SE...   \n",
       "1  We have 7 bedrooms and 5 bathrooms,gourmet kit...   \n",
       "2  Beautiful cozy apartment in excellent location...   \n",
       "3  <b>The space</b><br />I OFFER A ROOM IN MY APA...   \n",
       "4  Amazing apartment in the best area of Palermo....   \n",
       "\n",
       "                               neighborhood_overview  \\\n",
       "0  AREA: PALERMO SOHO<br /><br />Minutes walking ...   \n",
       "1                                                NaN   \n",
       "2  Palermo is such a perfect place to explore the...   \n",
       "3                                                NaN   \n",
       "4  Palermo is the best neighborhhod in the city.<...   \n",
       "\n",
       "                                         picture_url   host_id  ...  \\\n",
       "0  https://a0.muscache.com/pictures/19357696/b1de...     42762  ...   \n",
       "1  https://a0.muscache.com/pictures/822490/5bc2ab...    555693  ...   \n",
       "2  https://a0.muscache.com/pictures/4695637/bbae8...  87710233  ...   \n",
       "3  https://a0.muscache.com/pictures/91166/c0fdcb4...     59338  ...   \n",
       "4  https://a0.muscache.com/pictures/717831/fbb7cd...    559463  ...   \n",
       "\n",
       "  review_scores_communication review_scores_location review_scores_value  \\\n",
       "0                        4.97                   4.94                4.89   \n",
       "1                        4.71                   4.63                4.53   \n",
       "2                        4.90                   4.89                4.75   \n",
       "3                         NaN                    NaN                 NaN   \n",
       "4                        4.77                   4.94                4.66   \n",
       "\n",
       "  license instant_bookable calculated_host_listings_count  \\\n",
       "0     NaN                f                              1   \n",
       "1     NaN                f                              2   \n",
       "2     NaN                f                              7   \n",
       "3     NaN                f                              1   \n",
       "4     NaN                f                              4   \n",
       "\n",
       "  calculated_host_listings_count_entire_homes  \\\n",
       "0                                           1   \n",
       "1                                           2   \n",
       "2                                           7   \n",
       "3                                           0   \n",
       "4                                           4   \n",
       "\n",
       "  calculated_host_listings_count_private_rooms  \\\n",
       "0                                            0   \n",
       "1                                            0   \n",
       "2                                            0   \n",
       "3                                            1   \n",
       "4                                            0   \n",
       "\n",
       "  calculated_host_listings_count_shared_rooms reviews_per_month  \n",
       "0                                           0              0.26  \n",
       "1                                           0              0.28  \n",
       "2                                           0              0.81  \n",
       "3                                           0               NaN  \n",
       "4                                           0              0.77  \n",
       "\n",
       "[5 rows x 75 columns]"
      ]
     },
     "execution_count": 3,
     "metadata": {},
     "output_type": "execute_result"
    }
   ],
   "source": [
    "# Viewing shape and first 5 observations\n",
    "print(data.shape)\n",
    "data.head()"
   ]
  },
  {
   "cell_type": "code",
   "execution_count": 4,
   "id": "e1ac0b83-2930-4ef9-a0a6-d238808aa861",
   "metadata": {
    "scrolled": true,
    "tags": []
   },
   "outputs": [
    {
     "name": "stdout",
     "output_type": "stream",
     "text": [
      "<class 'pandas.core.frame.DataFrame'>\n",
      "RangeIndex: 29346 entries, 0 to 29345\n",
      "Data columns (total 75 columns):\n",
      " #   Column                                        Non-Null Count  Dtype  \n",
      "---  ------                                        --------------  -----  \n",
      " 0   id                                            29346 non-null  int64  \n",
      " 1   listing_url                                   29346 non-null  object \n",
      " 2   scrape_id                                     29346 non-null  int64  \n",
      " 3   last_scraped                                  29346 non-null  object \n",
      " 4   source                                        29346 non-null  object \n",
      " 5   name                                          29346 non-null  object \n",
      " 6   description                                   28747 non-null  object \n",
      " 7   neighborhood_overview                         16259 non-null  object \n",
      " 8   picture_url                                   29346 non-null  object \n",
      " 9   host_id                                       29346 non-null  int64  \n",
      " 10  host_url                                      29346 non-null  object \n",
      " 11  host_name                                     29346 non-null  object \n",
      " 12  host_since                                    29346 non-null  object \n",
      " 13  host_location                                 22754 non-null  object \n",
      " 14  host_about                                    16338 non-null  object \n",
      " 15  host_response_time                            25621 non-null  object \n",
      " 16  host_response_rate                            25621 non-null  object \n",
      " 17  host_acceptance_rate                          26819 non-null  object \n",
      " 18  host_is_superhost                             27893 non-null  object \n",
      " 19  host_thumbnail_url                            29346 non-null  object \n",
      " 20  host_picture_url                              29346 non-null  object \n",
      " 21  host_neighbourhood                            19698 non-null  object \n",
      " 22  host_listings_count                           29346 non-null  int64  \n",
      " 23  host_total_listings_count                     29346 non-null  int64  \n",
      " 24  host_verifications                            29346 non-null  object \n",
      " 25  host_has_profile_pic                          29346 non-null  object \n",
      " 26  host_identity_verified                        29346 non-null  object \n",
      " 27  neighbourhood                                 16259 non-null  object \n",
      " 28  neighbourhood_cleansed                        29346 non-null  object \n",
      " 29  neighbourhood_group_cleansed                  0 non-null      float64\n",
      " 30  latitude                                      29346 non-null  float64\n",
      " 31  longitude                                     29346 non-null  float64\n",
      " 32  property_type                                 29346 non-null  object \n",
      " 33  room_type                                     29346 non-null  object \n",
      " 34  accommodates                                  29346 non-null  int64  \n",
      " 35  bathrooms                                     0 non-null      float64\n",
      " 36  bathrooms_text                                29322 non-null  object \n",
      " 37  bedrooms                                      23221 non-null  float64\n",
      " 38  beds                                          29085 non-null  float64\n",
      " 39  amenities                                     29346 non-null  object \n",
      " 40  price                                         29346 non-null  object \n",
      " 41  minimum_nights                                29346 non-null  int64  \n",
      " 42  maximum_nights                                29346 non-null  int64  \n",
      " 43  minimum_minimum_nights                        29346 non-null  int64  \n",
      " 44  maximum_minimum_nights                        29346 non-null  int64  \n",
      " 45  minimum_maximum_nights                        29346 non-null  int64  \n",
      " 46  maximum_maximum_nights                        29346 non-null  int64  \n",
      " 47  minimum_nights_avg_ntm                        29346 non-null  float64\n",
      " 48  maximum_nights_avg_ntm                        29346 non-null  float64\n",
      " 49  calendar_updated                              0 non-null      float64\n",
      " 50  has_availability                              29346 non-null  object \n",
      " 51  availability_30                               29346 non-null  int64  \n",
      " 52  availability_60                               29346 non-null  int64  \n",
      " 53  availability_90                               29346 non-null  int64  \n",
      " 54  availability_365                              29346 non-null  int64  \n",
      " 55  calendar_last_scraped                         29346 non-null  object \n",
      " 56  number_of_reviews                             29346 non-null  int64  \n",
      " 57  number_of_reviews_ltm                         29346 non-null  int64  \n",
      " 58  number_of_reviews_l30d                        29346 non-null  int64  \n",
      " 59  first_review                                  23841 non-null  object \n",
      " 60  last_review                                   23841 non-null  object \n",
      " 61  review_scores_rating                          23843 non-null  float64\n",
      " 62  review_scores_accuracy                        23767 non-null  float64\n",
      " 63  review_scores_cleanliness                     23765 non-null  float64\n",
      " 64  review_scores_checkin                         23766 non-null  float64\n",
      " 65  review_scores_communication                   23768 non-null  float64\n",
      " 66  review_scores_location                        23767 non-null  float64\n",
      " 67  review_scores_value                           23767 non-null  float64\n",
      " 68  license                                       445 non-null    object \n",
      " 69  instant_bookable                              29346 non-null  object \n",
      " 70  calculated_host_listings_count                29346 non-null  int64  \n",
      " 71  calculated_host_listings_count_entire_homes   29346 non-null  int64  \n",
      " 72  calculated_host_listings_count_private_rooms  29346 non-null  int64  \n",
      " 73  calculated_host_listings_count_shared_rooms   29346 non-null  int64  \n",
      " 74  reviews_per_month                             23841 non-null  float64\n",
      "dtypes: float64(17), int64(23), object(35)\n",
      "memory usage: 16.8+ MB\n"
     ]
    }
   ],
   "source": [
    "# Viewing information on data types of all columns\n",
    "data.info()"
   ]
  },
  {
   "cell_type": "markdown",
   "id": "c88f51c4-2e54-455b-b479-3c56e1215320",
   "metadata": {
    "tags": []
   },
   "source": [
    "## EDA and Feature Engineering\n",
    "First a filter will be placed to only grab the listings that accommodate at least 2 but no more than 6 people total. From there, data review and cleaning will take place along with the potential creation of dummy variables for further analysis."
   ]
  },
  {
   "cell_type": "code",
   "execution_count": 5,
   "id": "1475271c-7935-4854-b9cd-ed769a5a61c4",
   "metadata": {
    "tags": []
   },
   "outputs": [
    {
     "name": "stdout",
     "output_type": "stream",
     "text": [
      "(27340, 75)\n"
     ]
    }
   ],
   "source": [
    "# Filtering data to only contain listings that accommodate between 2 and 6 people and assigning it to a new df to work off of. Printing the shape of the new df, deleting initial dataframe that's no longer needed\n",
    "df = data.query('2 <= accommodates <= 6')\n",
    "print(df.shape)\n",
    "del data"
   ]
  },
  {
   "cell_type": "code",
   "execution_count": 6,
   "id": "e81dd7a8-d817-4bcb-a124-b24f2442884c",
   "metadata": {
    "scrolled": true,
    "tags": []
   },
   "outputs": [
    {
     "data": {
      "text/plain": [
       "neighbourhood_group_cleansed    27340\n",
       "bathrooms                       27340\n",
       "calendar_updated                27340\n",
       "license                         26932\n",
       "host_about                      12298\n",
       "neighbourhood                   12195\n",
       "neighborhood_overview           12195\n",
       "host_neighbourhood               9052\n",
       "host_location                    6300\n",
       "review_scores_checkin            5022\n",
       "review_scores_cleanliness        5022\n",
       "review_scores_accuracy           5021\n",
       "review_scores_location           5021\n",
       "review_scores_value              5021\n",
       "review_scores_communication      5020\n",
       "first_review                     4969\n",
       "last_review                      4969\n",
       "reviews_per_month                4969\n",
       "review_scores_rating             4967\n",
       "bedrooms                         4944\n",
       "host_response_rate               3342\n",
       "host_response_time               3342\n",
       "host_acceptance_rate             2292\n",
       "host_is_superhost                1400\n",
       "description                       569\n",
       "beds                              233\n",
       "bathrooms_text                     15\n",
       "availability_60                     0\n",
       "availability_90                     0\n",
       "availability_365                    0\n",
       "dtype: int64"
      ]
     },
     "execution_count": 6,
     "metadata": {},
     "output_type": "execute_result"
    }
   ],
   "source": [
    "# Checking sum of all null values, sorted by descending order\n",
    "df.isna().sum().sort_values(ascending=False).head(30)"
   ]
  },
  {
   "cell_type": "markdown",
   "id": "d08ffe31-2acd-4a00-95af-90ddbdfecbb2",
   "metadata": {},
   "source": [
    "The bathrooms column which indicates how many bathrooms the listing has available is completely null in this dataset. That would otherwise be an important data point for analysis but given that it is completely full of null values, the column will be dropped along with all other columns that are fully or mostly null. The other columns that have many null values include columns with information/data about the host of the listing and not information about the accommodation itself. This includes the neighbourhood the host has reported they reside in, and information about the host. What may be important, however, is the location of the host (`host_location`) so that will be kept. There are other factors within the data concerning the host that are more impactful for analysis, such as whether or not the host is a superhost, therefore these columns will be dropped as well.\n",
    "\n",
    "Null values seen within `host_is_superhost` can be seen as the host not being a superhost. Given as it is a desirable status symbol on AirBnB to be a superhost, if the value is null it can be assumed that it is 0. Null values in that column will be imputed as 0 with a flag variable created."
   ]
  },
  {
   "cell_type": "code",
   "execution_count": 7,
   "id": "b2a6e403-6e23-4310-a500-ed48aa91da3e",
   "metadata": {
    "tags": []
   },
   "outputs": [],
   "source": [
    "# Renaming all columns that say neighbourhood to neihborhood for consistency\n",
    "df.columns = df.columns.str.replace('neighbourhood', 'neighborhood')"
   ]
  },
  {
   "cell_type": "code",
   "execution_count": 8,
   "id": "685864f9-2f48-437a-b749-076d61ddeeba",
   "metadata": {
    "tags": []
   },
   "outputs": [],
   "source": [
    "# Dropping columns that are fully or mostly null values\n",
    "df.drop(['neighborhood_group_cleansed', 'bathrooms', 'calendar_updated', 'license', 'host_about', 'host_neighborhood', 'host_about'], axis=1, inplace=True)"
   ]
  },
  {
   "cell_type": "code",
   "execution_count": 9,
   "id": "784a7422-3acc-4071-b2fb-d6e97ee3414d",
   "metadata": {
    "scrolled": true,
    "tags": []
   },
   "outputs": [
    {
     "data": {
      "text/plain": [
       "neighborhood_cleansed\n",
       "Palermo              9325\n",
       "Recoleta             4077\n",
       "San Nicolas          1622\n",
       "Belgrano             1477\n",
       "Retiro               1332\n",
       "Monserrat            1105\n",
       "Almagro               971\n",
       "Villa Crespo          870\n",
       "Balvanera             833\n",
       "San Telmo             732\n",
       "Colegiales            653\n",
       "Nuñez                 622\n",
       "Caballito             524\n",
       "Chacarita             430\n",
       "Villa Urquiza         338\n",
       "Constitucion          324\n",
       "Puerto Madero         320\n",
       "Barracas              203\n",
       "Saavedra              185\n",
       "San Cristobal         170\n",
       "Flores                122\n",
       "Coghlan               105\n",
       "Villa Ortuzar         104\n",
       "Villa Devoto           96\n",
       "Villa Del Parque       90\n",
       "Boedo                  76\n",
       "Boca                   76\n",
       "Parque Patricios       65\n",
       "Parque Chas            62\n",
       "Parque Chacabuco       61\n",
       "Villa Pueyrredon       52\n",
       "Paternal               43\n",
       "Agronomia              42\n",
       "Floresta               38\n",
       "Villa Santa Rita       36\n",
       "Villa Luro             28\n",
       "Villa Gral. Mitre      27\n",
       "Mataderos              22\n",
       "Liniers                20\n",
       "Velez Sarsfield        18\n",
       "Monte Castro           13\n",
       "Parque Avellaneda      10\n",
       "Nueva Pompeya           8\n",
       "Villa Real              5\n",
       "Villa Lugano            3\n",
       "Versalles               3\n",
       "Villa Riachuelo         1\n",
       "Villa Soldati           1\n",
       "Name: count, dtype: int64"
      ]
     },
     "execution_count": 9,
     "metadata": {},
     "output_type": "execute_result"
    }
   ],
   "source": [
    "# Checking neighborhood_cleansed column for any results outside of Buenos Aires\n",
    "df.neighborhood_cleansed.value_counts()"
   ]
  },
  {
   "cell_type": "markdown",
   "id": "312f15ce-4fc7-418b-8cfb-a876d330bc8c",
   "metadata": {
    "tags": []
   },
   "source": [
    "There are no results outside of Buenos Aires. Also dropping `neighborhood` and `neighborhood_overview` columns as they do not contain new information from `neighborhood_cleansed` and also contain null values."
   ]
  },
  {
   "cell_type": "code",
   "execution_count": 10,
   "id": "59671a54-577f-4983-b18a-1efc8309f516",
   "metadata": {},
   "outputs": [],
   "source": [
    "# Dropping `neighborhood` column\n",
    "df.drop(['neighborhood', 'neighborhood_overview'], axis=1, inplace=True)"
   ]
  },
  {
   "cell_type": "code",
   "execution_count": 11,
   "id": "37fea9ce-1063-410c-b4ff-e618df64ec73",
   "metadata": {
    "tags": []
   },
   "outputs": [
    {
     "data": {
      "text/plain": [
       "room_type\n",
       "Entire home/apt    25765\n",
       "Private room        1432\n",
       "Shared room           87\n",
       "Hotel room            56\n",
       "Name: count, dtype: int64"
      ]
     },
     "execution_count": 11,
     "metadata": {},
     "output_type": "execute_result"
    }
   ],
   "source": [
    "# Checking room_type contents\n",
    "df.room_type.value_counts()"
   ]
  },
  {
   "cell_type": "code",
   "execution_count": 12,
   "id": "0cb7bbfb-7f06-4b66-a1fe-537b518d651f",
   "metadata": {
    "tags": []
   },
   "outputs": [],
   "source": [
    "# Dropping hotels from examination\n",
    "df = df.loc[df['room_type'] != 'Hotel room']"
   ]
  },
  {
   "cell_type": "code",
   "execution_count": 13,
   "id": "cde59988-973a-4dd5-bf4a-0a8d6be61cbd",
   "metadata": {
    "tags": []
   },
   "outputs": [],
   "source": [
    "# Creating flag variable for null values that are to be imputed in host_is_superhost as a binary\n",
    "df['flag_superhost'] = df.host_is_superhost.isna().astype(int)\n",
    "\n",
    "# Changing host_is_superhost to binary with 1 being yes and 0 being no. Imputing 0 for null values.\n",
    "df.host_is_superhost.replace('t', 1, inplace=True)\n",
    "df.host_is_superhost.replace('f', 0, inplace=True)\n",
    "df.host_is_superhost.fillna(0, inplace=True, downcast='infer')"
   ]
  },
  {
   "cell_type": "code",
   "execution_count": 14,
   "id": "778c8bd5-83b4-4284-be2c-dc212985684a",
   "metadata": {
    "tags": []
   },
   "outputs": [
    {
     "data": {
      "text/plain": [
       "flag_superhost\n",
       "0    25884\n",
       "1     1400\n",
       "Name: count, dtype: int64"
      ]
     },
     "execution_count": 14,
     "metadata": {},
     "output_type": "execute_result"
    }
   ],
   "source": [
    "df.flag_superhost.value_counts()"
   ]
  },
  {
   "cell_type": "code",
   "execution_count": 15,
   "id": "d9a4b969-7b2f-4221-b047-fea148a4ed08",
   "metadata": {
    "scrolled": true,
    "tags": []
   },
   "outputs": [
    {
     "name": "stdout",
     "output_type": "stream",
     "text": [
      "(4957, 68)\n"
     ]
    },
    {
     "data": {
      "text/plain": [
       "reviews_per_month              4957\n",
       "first_review                   4957\n",
       "last_review                    4957\n",
       "review_scores_rating           4955\n",
       "review_scores_accuracy         4955\n",
       "review_scores_cleanliness      4955\n",
       "review_scores_checkin          4955\n",
       "review_scores_value            4955\n",
       "review_scores_location         4955\n",
       "review_scores_communication    4955\n",
       "host_location                  1604\n",
       "host_response_rate             1367\n",
       "host_response_time             1367\n",
       "host_acceptance_rate           1255\n",
       "bedrooms                        840\n",
       "description                     117\n",
       "beds                             51\n",
       "bathrooms_text                    6\n",
       "availability_365                  0\n",
       "has_availability                  0\n",
       "maximum_nights_avg_ntm            0\n",
       "minimum_nights_avg_ntm            0\n",
       "maximum_maximum_nights            0\n",
       "availability_30                   0\n",
       "availability_60                   0\n",
       "availability_90                   0\n",
       "id                                0\n",
       "calendar_last_scraped             0\n",
       "number_of_reviews                 0\n",
       "number_of_reviews_ltm             0\n",
       "dtype: int64"
      ]
     },
     "execution_count": 15,
     "metadata": {},
     "output_type": "execute_result"
    }
   ],
   "source": [
    "# Reviewing observations where reviews_per_month are null\n",
    "print(df[df.reviews_per_month.isna() == True].shape) # Printing shape\n",
    "\n",
    "# Creating test df for reviewing null values associated with reviews_per_month when that is null also\n",
    "test = df[df.reviews_per_month.isna() == True]\n",
    "test.isna().sum().sort_values(ascending=False).head(30)"
   ]
  },
  {
   "cell_type": "code",
   "execution_count": 16,
   "id": "1d507aa8-1290-4258-b2a7-e9514b9b503f",
   "metadata": {
    "tags": []
   },
   "outputs": [
    {
     "data": {
      "text/html": [
       "<div>\n",
       "<style scoped>\n",
       "    .dataframe tbody tr th:only-of-type {\n",
       "        vertical-align: middle;\n",
       "    }\n",
       "\n",
       "    .dataframe tbody tr th {\n",
       "        vertical-align: top;\n",
       "    }\n",
       "\n",
       "    .dataframe thead th {\n",
       "        text-align: right;\n",
       "    }\n",
       "</style>\n",
       "<table border=\"1\" class=\"dataframe\">\n",
       "  <thead>\n",
       "    <tr style=\"text-align: right;\">\n",
       "      <th></th>\n",
       "      <th>id</th>\n",
       "      <th>listing_url</th>\n",
       "      <th>scrape_id</th>\n",
       "      <th>last_scraped</th>\n",
       "      <th>source</th>\n",
       "      <th>name</th>\n",
       "      <th>description</th>\n",
       "      <th>picture_url</th>\n",
       "      <th>host_id</th>\n",
       "      <th>host_url</th>\n",
       "      <th>...</th>\n",
       "      <th>review_scores_communication</th>\n",
       "      <th>review_scores_location</th>\n",
       "      <th>review_scores_value</th>\n",
       "      <th>instant_bookable</th>\n",
       "      <th>calculated_host_listings_count</th>\n",
       "      <th>calculated_host_listings_count_entire_homes</th>\n",
       "      <th>calculated_host_listings_count_private_rooms</th>\n",
       "      <th>calculated_host_listings_count_shared_rooms</th>\n",
       "      <th>reviews_per_month</th>\n",
       "      <th>flag_superhost</th>\n",
       "    </tr>\n",
       "  </thead>\n",
       "  <tbody>\n",
       "    <tr>\n",
       "      <th>14380</th>\n",
       "      <td>675897953216372358</td>\n",
       "      <td>https://www.airbnb.com/rooms/675897953216372358</td>\n",
       "      <td>20230922223302</td>\n",
       "      <td>2023-09-24</td>\n",
       "      <td>city scrape</td>\n",
       "      <td>Serviced apartment in Palermo · ★New · 1 bedro...</td>\n",
       "      <td>Disfruta de la sencillez de este alojamiento t...</td>\n",
       "      <td>https://a0.muscache.com/pictures/8f618490-0ad6...</td>\n",
       "      <td>450965790</td>\n",
       "      <td>https://www.airbnb.com/users/show/450965790</td>\n",
       "      <td>...</td>\n",
       "      <td>5.0</td>\n",
       "      <td>5.0</td>\n",
       "      <td>5.0</td>\n",
       "      <td>f</td>\n",
       "      <td>1</td>\n",
       "      <td>1</td>\n",
       "      <td>0</td>\n",
       "      <td>0</td>\n",
       "      <td>NaN</td>\n",
       "      <td>0</td>\n",
       "    </tr>\n",
       "    <tr>\n",
       "      <th>27914</th>\n",
       "      <td>965888041736392206</td>\n",
       "      <td>https://www.airbnb.com/rooms/965888041736392206</td>\n",
       "      <td>20230922223302</td>\n",
       "      <td>2023-09-24</td>\n",
       "      <td>city scrape</td>\n",
       "      <td>Rental unit in Buenos Aires · ★New · 2 bedroom...</td>\n",
       "      <td>Espectacular apartamento de dos habitaciones d...</td>\n",
       "      <td>https://a0.muscache.com/pictures/miso/Hosting-...</td>\n",
       "      <td>533833227</td>\n",
       "      <td>https://www.airbnb.com/users/show/533833227</td>\n",
       "      <td>...</td>\n",
       "      <td>5.0</td>\n",
       "      <td>5.0</td>\n",
       "      <td>5.0</td>\n",
       "      <td>t</td>\n",
       "      <td>1</td>\n",
       "      <td>1</td>\n",
       "      <td>0</td>\n",
       "      <td>0</td>\n",
       "      <td>NaN</td>\n",
       "      <td>0</td>\n",
       "    </tr>\n",
       "  </tbody>\n",
       "</table>\n",
       "<p>2 rows × 68 columns</p>\n",
       "</div>"
      ],
      "text/plain": [
       "                       id                                      listing_url  \\\n",
       "14380  675897953216372358  https://www.airbnb.com/rooms/675897953216372358   \n",
       "27914  965888041736392206  https://www.airbnb.com/rooms/965888041736392206   \n",
       "\n",
       "            scrape_id last_scraped       source  \\\n",
       "14380  20230922223302   2023-09-24  city scrape   \n",
       "27914  20230922223302   2023-09-24  city scrape   \n",
       "\n",
       "                                                    name  \\\n",
       "14380  Serviced apartment in Palermo · ★New · 1 bedro...   \n",
       "27914  Rental unit in Buenos Aires · ★New · 2 bedroom...   \n",
       "\n",
       "                                             description  \\\n",
       "14380  Disfruta de la sencillez de este alojamiento t...   \n",
       "27914  Espectacular apartamento de dos habitaciones d...   \n",
       "\n",
       "                                             picture_url    host_id  \\\n",
       "14380  https://a0.muscache.com/pictures/8f618490-0ad6...  450965790   \n",
       "27914  https://a0.muscache.com/pictures/miso/Hosting-...  533833227   \n",
       "\n",
       "                                          host_url  ...  \\\n",
       "14380  https://www.airbnb.com/users/show/450965790  ...   \n",
       "27914  https://www.airbnb.com/users/show/533833227  ...   \n",
       "\n",
       "      review_scores_communication review_scores_location review_scores_value  \\\n",
       "14380                         5.0                    5.0                 5.0   \n",
       "27914                         5.0                    5.0                 5.0   \n",
       "\n",
       "      instant_bookable calculated_host_listings_count  \\\n",
       "14380                f                              1   \n",
       "27914                t                              1   \n",
       "\n",
       "      calculated_host_listings_count_entire_homes  \\\n",
       "14380                                           1   \n",
       "27914                                           1   \n",
       "\n",
       "       calculated_host_listings_count_private_rooms  \\\n",
       "14380                                             0   \n",
       "27914                                             0   \n",
       "\n",
       "      calculated_host_listings_count_shared_rooms reviews_per_month  \\\n",
       "14380                                           0               NaN   \n",
       "27914                                           0               NaN   \n",
       "\n",
       "       flag_superhost  \n",
       "14380               0  \n",
       "27914               0  \n",
       "\n",
       "[2 rows x 68 columns]"
      ]
     },
     "execution_count": 16,
     "metadata": {},
     "output_type": "execute_result"
    }
   ],
   "source": [
    "# Examining the two non-null values in revew_scores_rating\n",
    "test[test.review_scores_rating.isna() != True]"
   ]
  },
  {
   "cell_type": "code",
   "execution_count": 17,
   "id": "1ec959ec-6bf9-438e-beb1-7e4e66761ffb",
   "metadata": {
    "tags": []
   },
   "outputs": [
    {
     "data": {
      "text/plain": [
       "14380    0\n",
       "27914    0\n",
       "Name: number_of_reviews, dtype: int64"
      ]
     },
     "execution_count": 17,
     "metadata": {},
     "output_type": "execute_result"
    }
   ],
   "source": [
    "# Examing number_of_reviews column in the search above\n",
    "test[test.review_scores_rating.isna() != True]['number_of_reviews']"
   ]
  },
  {
   "cell_type": "code",
   "execution_count": 18,
   "id": "20c24df3-2ebf-43ed-af9b-100550c25f70",
   "metadata": {
    "tags": []
   },
   "outputs": [
    {
     "data": {
      "text/plain": [
       "number_of_reviews\n",
       "0    4957\n",
       "Name: count, dtype: int64"
      ]
     },
     "execution_count": 18,
     "metadata": {},
     "output_type": "execute_result"
    }
   ],
   "source": [
    "# Viewing value counts for `number_of_reviews` column within test df\n",
    "test.number_of_reviews.value_counts()"
   ]
  },
  {
   "cell_type": "markdown",
   "id": "fb63dc18-fec1-4924-8e89-adc6721cb5e5",
   "metadata": {},
   "source": [
    "From the above result we can confirm that for all values in the test df there are no reviews listed within the `number_of_reviews` column. From this it can be inferred that when `first_review`, `last_review`, and `reviews_per_month` are null that it's a brand new listing with no history. These will be imputed with the mean value for each column rather than null and a flag variable will be included called `flag_new_listings` for all imputed variables.\n",
    "\n",
    "For the two observations that do have values for review scores amongst several columns it can be inferred that this was an error. If no reviews were actually left then there can be no review scores for the listing. For these two listings specifically, their values will be corrected and a flag variable `flag_corrected_new_listing` will be created."
   ]
  },
  {
   "cell_type": "code",
   "execution_count": 19,
   "id": "30c23404-c9aa-4a6b-9038-129f478f0574",
   "metadata": {
    "tags": []
   },
   "outputs": [],
   "source": [
    "# Deleting test df\n",
    "del test\n",
    "\n",
    "# Creating flag variable for corrected new listings\n",
    "df['flag_corrected_new_listing'] = df.index.isin([14380, 27914]).astype(int)\n",
    "\n",
    "# Creating index array of columns starting with 'review_scores'\n",
    "columns_to_update = df.columns[df.columns.str.startswith('review_scores')]\n",
    "\n",
    "# Creating for loop to update each column with their mean value for the new listings in these two specific indexes\n",
    "for column in columns_to_update:\n",
    "    df.loc[df.index.isin([14380, 27914]), column] = df[column].mean()\n",
    "\n",
    "# Creating flag variable for imputed null values on first_review, last_review, and reviews_per_month\n",
    "df['flag_new_listings'] = df.reviews_per_month.isna().astype(int)\n",
    "\n",
    "# Filling null values for first_review, last_review, and reviews_per_month with 0\n",
    "df.first_review.fillna(0, inplace=True, downcast='infer')\n",
    "df.last_review.fillna(0, inplace=True, downcast='infer')\n",
    "df.reviews_per_month.fillna(0, inplace=True, downcast='infer')"
   ]
  },
  {
   "cell_type": "code",
   "execution_count": 20,
   "id": "f2e87780-c667-4996-9cef-b064f913af5d",
   "metadata": {
    "tags": []
   },
   "outputs": [
    {
     "data": {
      "text/plain": [
       "host_location                  6291\n",
       "review_scores_checkin          5010\n",
       "review_scores_cleanliness      5010\n",
       "review_scores_value            5009\n",
       "review_scores_accuracy         5009\n",
       "review_scores_location         5009\n",
       "review_scores_communication    5008\n",
       "review_scores_rating           4955\n",
       "bedrooms                       4938\n",
       "host_response_rate             3328\n",
       "host_response_time             3328\n",
       "host_acceptance_rate           2285\n",
       "description                     566\n",
       "beds                            232\n",
       "bathrooms_text                   10\n",
       "availability_90                   0\n",
       "calendar_last_scraped             0\n",
       "availability_365                  0\n",
       "maximum_nights_avg_ntm            0\n",
       "minimum_nights_avg_ntm            0\n",
       "dtype: int64"
      ]
     },
     "execution_count": 20,
     "metadata": {},
     "output_type": "execute_result"
    }
   ],
   "source": [
    "# Rechecking null values\n",
    "df.isna().sum().sort_values(ascending=False).head(20)"
   ]
  },
  {
   "cell_type": "markdown",
   "id": "55a9a580-eb0b-4be2-9cc4-805270afd992",
   "metadata": {},
   "source": [
    "There are still many null values, specifically in the `review_scores` columns. These values will be checked to see if there are reviews or not associated with them"
   ]
  },
  {
   "cell_type": "code",
   "execution_count": 21,
   "id": "01073944-77da-46e8-94a2-9aad7dda621e",
   "metadata": {
    "tags": []
   },
   "outputs": [],
   "source": [
    "# Creating test df again to make data filtering easier\n",
    "test = df[df.review_scores_checkin.isna()]"
   ]
  },
  {
   "cell_type": "code",
   "execution_count": 22,
   "id": "51d4b971-d915-4dda-a6e8-34e8ec889a08",
   "metadata": {
    "tags": []
   },
   "outputs": [
    {
     "data": {
      "text/plain": [
       "review_scores_cleanliness      4955\n",
       "review_scores_value            4955\n",
       "review_scores_rating           4955\n",
       "review_scores_accuracy         4955\n",
       "review_scores_checkin          4955\n",
       "review_scores_communication    4955\n",
       "review_scores_location         4955\n",
       "host_location                  1602\n",
       "host_response_time             1367\n",
       "host_response_rate             1367\n",
       "host_acceptance_rate           1255\n",
       "bedrooms                        840\n",
       "description                     117\n",
       "beds                             51\n",
       "bathrooms_text                    6\n",
       "number_of_reviews_ltm             0\n",
       "availability_60                   0\n",
       "availability_30                   0\n",
       "has_availability                  0\n",
       "availability_90                   0\n",
       "dtype: int64"
      ]
     },
     "execution_count": 22,
     "metadata": {},
     "output_type": "execute_result"
    }
   ],
   "source": [
    "# Setting number_of_reviews column equal to 0 and checking null values when that condition is True\n",
    "test[test.number_of_reviews == 0].isna().sum().sort_values(ascending=False).head(20)"
   ]
  },
  {
   "cell_type": "markdown",
   "id": "7044bbfd-e10b-45dc-8ec0-fe002f43ecd8",
   "metadata": {},
   "source": [
    "Here we can see that for the majority of the null values remaining in the `review_scores` columns are null because they are new listings. Imputing the mean value for review scores for each respective column. They are already withn new listings flag"
   ]
  },
  {
   "cell_type": "code",
   "execution_count": 23,
   "id": "860f18b1-fa50-4121-b842-616ef15d53a7",
   "metadata": {
    "tags": []
   },
   "outputs": [],
   "source": [
    "# Using for loop method used earlier\n",
    "for column in columns_to_update:\n",
    "    df.loc[(df.number_of_reviews == 0), column] = df[column].mean()"
   ]
  },
  {
   "cell_type": "code",
   "execution_count": 24,
   "id": "632818ca-d47c-40b4-b469-49eb69155989",
   "metadata": {
    "tags": []
   },
   "outputs": [],
   "source": [
    "# Deleting test df\n",
    "del test"
   ]
  },
  {
   "cell_type": "code",
   "execution_count": 25,
   "id": "cffa2c5b-a24b-4ab3-90b4-01fb5d8d77c1",
   "metadata": {},
   "outputs": [
    {
     "data": {
      "text/plain": [
       "accommodates\n",
       "2    3716\n",
       "3     758\n",
       "4     398\n",
       "5      30\n",
       "6      36\n",
       "dtype: int64"
      ]
     },
     "execution_count": 25,
     "metadata": {},
     "output_type": "execute_result"
    }
   ],
   "source": [
    "# Viewing null values in 'bedrooms' by 'accommodates'\n",
    "df[df.bedrooms.isna()].groupby('accommodates').size()"
   ]
  },
  {
   "cell_type": "markdown",
   "id": "efc78eca-70f6-4456-b3a5-9b6b8c6e02ed",
   "metadata": {
    "tags": []
   },
   "source": [
    "Rather than drop the listings that have do not have the amount of bedrooms listed, a decision will be made to impute the mean bedrooms rounded for each respective level of `accommodates` listed. A flag variable `flag_bedrooms` will be created to reflect this"
   ]
  },
  {
   "cell_type": "code",
   "execution_count": 26,
   "id": "ecfd449d-d39b-4201-adc2-de24cb576548",
   "metadata": {
    "tags": []
   },
   "outputs": [],
   "source": [
    "# Creating bedrooms flag variable\n",
    "df['flag_bedrooms'] = df.bedrooms.isna().astype(int)\n",
    "\n",
    "# Impute the null values with the mean values for their respective 'accommodates' group using a for loop\n",
    "for accommodates, mean_bedrooms in df.groupby('accommodates').bedrooms.mean().items():\n",
    "    df.loc[(df.accommodates == accommodates) & df.bedrooms.isnull(), 'bedrooms'] = round(mean_bedrooms)"
   ]
  },
  {
   "cell_type": "code",
   "execution_count": 27,
   "id": "45c59de6-1816-4784-8dca-6b1153b8d92c",
   "metadata": {
    "tags": []
   },
   "outputs": [
    {
     "name": "stdout",
     "output_type": "stream",
     "text": [
      "0         91%\n",
      "2        100%\n",
      "4        100%\n",
      "5        100%\n",
      "6         97%\n",
      "         ... \n",
      "29338    100%\n",
      "29339     97%\n",
      "29340     85%\n",
      "29341     70%\n",
      "29343    100%\n",
      "Name: host_acceptance_rate, Length: 27284, dtype: object\n",
      "\n",
      "0        100%\n",
      "2        100%\n",
      "4        100%\n",
      "5        100%\n",
      "6         96%\n",
      "         ... \n",
      "29338     NaN\n",
      "29339    100%\n",
      "29340    100%\n",
      "29341    100%\n",
      "29343    100%\n",
      "Name: host_response_rate, Length: 27284, dtype: object\n",
      "\n",
      "0            within an hour\n",
      "2            within an hour\n",
      "4            within an hour\n",
      "5            within an hour\n",
      "6            within an hour\n",
      "                ...        \n",
      "29338                   NaN\n",
      "29339    within a few hours\n",
      "29340        within an hour\n",
      "29341        within an hour\n",
      "29343        within an hour\n",
      "Name: host_response_time, Length: 27284, dtype: object\n"
     ]
    }
   ],
   "source": [
    "# Viewing 'host' columns to check what type of values they have\n",
    "print(df.host_acceptance_rate)\n",
    "print()\n",
    "print(df.host_response_rate)\n",
    "print()\n",
    "print(df.host_response_time)"
   ]
  },
  {
   "cell_type": "code",
   "execution_count": 28,
   "id": "668a9f46-9727-4ed0-b60a-3fb7dbfb1c1f",
   "metadata": {
    "tags": []
   },
   "outputs": [],
   "source": [
    "# Converting host rate columns to numeric percentages, filling host_response_time null values with 'Missing'\n",
    "df['host_acceptance_rate'] = df.host_acceptance_rate.str.rstrip('%').astype(float) / 100\n",
    "df['host_response_rate'] = df.host_response_rate.str.rstrip('%').astype(float) / 100\n",
    "df.host_response_time.fillna('Missing', inplace=True)"
   ]
  },
  {
   "cell_type": "code",
   "execution_count": 29,
   "id": "9878b207-48a2-4eab-8171-0b9399a0a8fc",
   "metadata": {
    "tags": []
   },
   "outputs": [
    {
     "data": {
      "text/plain": [
       "host_location                  6291\n",
       "host_response_rate             3328\n",
       "host_acceptance_rate           2285\n",
       "description                     566\n",
       "beds                            232\n",
       "review_scores_cleanliness        55\n",
       "review_scores_checkin            55\n",
       "review_scores_accuracy           54\n",
       "review_scores_location           54\n",
       "review_scores_value              54\n",
       "review_scores_communication      53\n",
       "bathrooms_text                   10\n",
       "number_of_reviews                 0\n",
       "calendar_last_scraped             0\n",
       "availability_365                  0\n",
       "dtype: int64"
      ]
     },
     "execution_count": 29,
     "metadata": {},
     "output_type": "execute_result"
    }
   ],
   "source": [
    "# Rechecking null values\n",
    "df.isna().sum().sort_values(ascending=False).head(15)"
   ]
  },
  {
   "cell_type": "code",
   "execution_count": 30,
   "id": "ef4f20f8-f46a-4f0b-81a3-0379a9d7d7ce",
   "metadata": {
    "tags": []
   },
   "outputs": [
    {
     "data": {
      "text/plain": [
       "930"
      ]
     },
     "execution_count": 30,
     "metadata": {},
     "output_type": "execute_result"
    }
   ],
   "source": [
    "# Checking null value count in host_response_rate using two conditions above\n",
    "df[(df.number_of_reviews == 0) & df.host_acceptance_rate.isna()].host_response_rate.isna().sum()"
   ]
  },
  {
   "cell_type": "markdown",
   "id": "342f8d9c-f349-4da9-b3dc-f4d4dfd7a426",
   "metadata": {},
   "source": [
    "For the null values in `host_response_rate` and `host_acceptance_rate` when `number_of_reviews` = 0 a decision will be made to assume that those are new listings. They will be added to the new listings flag and the mean will be imputed for these values."
   ]
  },
  {
   "cell_type": "code",
   "execution_count": 31,
   "id": "bf14ca89-e197-4e0f-b05f-13377c8a24d9",
   "metadata": {
    "tags": []
   },
   "outputs": [],
   "source": [
    "# Adding to flag_new_listings if not already accounted for\n",
    "df.loc[(df.number_of_reviews == 0) & df.host_acceptance_rate.isna(), 'flag_new_listings'] = 1\n",
    "\n",
    "# Imputing values in both columns with their means using a for loop\n",
    "for column in ['host_response_rate', 'host_acceptance_rate']:\n",
    "    df.loc[(df.number_of_reviews == 0) & df.host_acceptance_rate.isna() & df.host_acceptance_rate.isna(), column] = df[column].mean()"
   ]
  },
  {
   "cell_type": "code",
   "execution_count": 32,
   "id": "57b7dee6-d7c7-4281-bc94-5b645549c963",
   "metadata": {
    "tags": []
   },
   "outputs": [
    {
     "data": {
      "text/plain": [
       "host_location                  6291\n",
       "host_response_rate             2398\n",
       "host_acceptance_rate           1030\n",
       "description                     566\n",
       "beds                            232\n",
       "review_scores_cleanliness        55\n",
       "review_scores_checkin            55\n",
       "review_scores_accuracy           54\n",
       "review_scores_location           54\n",
       "review_scores_value              54\n",
       "review_scores_communication      53\n",
       "bathrooms_text                   10\n",
       "number_of_reviews                 0\n",
       "calendar_last_scraped             0\n",
       "availability_365                  0\n",
       "dtype: int64"
      ]
     },
     "execution_count": 32,
     "metadata": {},
     "output_type": "execute_result"
    }
   ],
   "source": [
    "df.isna().sum().sort_values(ascending=False).head(15)"
   ]
  },
  {
   "cell_type": "code",
   "execution_count": 33,
   "id": "f790987a-f800-4172-8727-57610dd84858",
   "metadata": {
    "tags": []
   },
   "outputs": [
    {
     "data": {
      "text/plain": [
       "197"
      ]
     },
     "execution_count": 33,
     "metadata": {},
     "output_type": "execute_result"
    }
   ],
   "source": [
    "# Checking null values in host_reponse_rate when host_acceptance_rate and number_of_reviews both = 0\n",
    "df[(df.number_of_reviews == 0) & (df.host_acceptance_rate == 0)].host_response_rate.isna().sum()"
   ]
  },
  {
   "cell_type": "code",
   "execution_count": 34,
   "id": "c2b4f1ed-8783-4475-9d29-55e3777d4aa7",
   "metadata": {
    "tags": []
   },
   "outputs": [],
   "source": [
    "# Imputing 0 for these values as they are likely to have been an error if no reviews and host has a 0 for an acceptance rate\n",
    "df.loc[(df.number_of_reviews == 0) & (df.host_acceptance_rate == 0) & df.host_response_rate.isna(), 'host_response_rate'] = float(0)"
   ]
  },
  {
   "cell_type": "markdown",
   "id": "23c0a90e-ff31-493b-97bf-cdbc983451a9",
   "metadata": {},
   "source": [
    "For the null values in `host_response_rate` and `host_acceptance_rate` that are remaining the mean will be imputed for each respective level of accommodates, as done previously. Flag variables will be created for both, `flag_hrr` and `flag_har` respectively"
   ]
  },
  {
   "cell_type": "code",
   "execution_count": 35,
   "id": "61268e28-fd00-4374-b347-ef4f72ccded4",
   "metadata": {
    "tags": []
   },
   "outputs": [],
   "source": [
    "# Adding flag variables for each\n",
    "df['flag_hrr'] = df.host_response_rate.isna().astype(int)\n",
    "df['flag_har'] = df.host_acceptance_rate.isna().astype(int)\n",
    "\n",
    "# Imputing mean value by accommodates for host_response_rate\n",
    "for accommodates, mean_hrr in df.groupby('accommodates').host_response_rate.mean().items():\n",
    "    df.loc[(df.accommodates == accommodates) & df.host_response_rate.isna(), 'host_response_rate'] = mean_hrr\n",
    "    \n",
    "# Imputing mean value by accommodates for host_acceptance_rate\n",
    "for accommodates, mean_har in df.groupby('accommodates').host_acceptance_rate.mean().items():\n",
    "    df.loc[(df.accommodates == accommodates) & df.host_acceptance_rate.isna(), 'host_acceptance_rate'] = mean_har"
   ]
  },
  {
   "cell_type": "code",
   "execution_count": 36,
   "id": "99840120-bf02-4d11-9309-38d842d6f268",
   "metadata": {
    "tags": []
   },
   "outputs": [],
   "source": [
    "# Filling null values in categorical columns with 'Missing'\n",
    "df.host_location.fillna('Missing', inplace=True)\n",
    "df.description.fillna('Missing', inplace=True)"
   ]
  },
  {
   "cell_type": "code",
   "execution_count": 37,
   "id": "9d80b807-627a-40db-955d-69f45074f1cd",
   "metadata": {
    "tags": []
   },
   "outputs": [
    {
     "data": {
      "text/plain": [
       "bathrooms_text\n",
       "1 bath               20042\n",
       "1.5 baths             3244\n",
       "2 baths               2001\n",
       "2.5 baths              498\n",
       "1 shared bath          419\n",
       "1 private bath         368\n",
       "3 baths                192\n",
       "1.5 shared baths       123\n",
       "2 shared baths          90\n",
       "3.5 baths               78\n",
       "3 shared baths          46\n",
       "0 baths                 27\n",
       "2.5 shared baths        26\n",
       "4 baths                 23\n",
       "4 shared baths          16\n",
       "3.5 shared baths         9\n",
       "0 shared baths           8\n",
       "6.5 shared baths         7\n",
       "Half-bath                7\n",
       "4.5 baths                7\n",
       "5 shared baths           6\n",
       "9 baths                  5\n",
       "Shared half-bath         5\n",
       "5 baths                  5\n",
       "6 shared baths           4\n",
       "9 shared baths           3\n",
       "4.5 shared baths         3\n",
       "8 baths                  2\n",
       "7 baths                  2\n",
       "6 baths                  1\n",
       "7 shared baths           1\n",
       "5.5 shared baths         1\n",
       "8.5 shared baths         1\n",
       "8 shared baths           1\n",
       "Private half-bath        1\n",
       "22 baths                 1\n",
       "5.5 baths                1\n",
       "Name: count, dtype: int64"
      ]
     },
     "execution_count": 37,
     "metadata": {},
     "output_type": "execute_result"
    }
   ],
   "source": [
    "# Reviewing bathrooms_text column\n",
    "df.bathrooms_text.value_counts()"
   ]
  },
  {
   "cell_type": "code",
   "execution_count": 38,
   "id": "8503dc41-8c61-43ce-9b13-8b8cf0a8579d",
   "metadata": {
    "scrolled": true,
    "tags": []
   },
   "outputs": [
    {
     "data": {
      "text/plain": [
       "room_type        bathrooms_text   \n",
       "Entire home/apt  1 bath               19898\n",
       "                 1.5 baths             3151\n",
       "                 2 baths               1937\n",
       "                 2.5 baths              485\n",
       "                 3 baths                164\n",
       "                 3.5 baths               75\n",
       "                 4 baths                 19\n",
       "                 0 baths                 15\n",
       "                 4.5 baths                7\n",
       "                 Half-bath                5\n",
       "                 5 baths                  3\n",
       "                 5.5 baths                1\n",
       "Private room     1 shared bath          374\n",
       "                 1 private bath         368\n",
       "                 1 bath                 144\n",
       "                 1.5 shared baths       119\n",
       "                 1.5 baths               93\n",
       "                 2 shared baths          80\n",
       "                 2 baths                 64\n",
       "                 3 shared baths          40\n",
       "                 3 baths                 28\n",
       "                 2.5 shared baths        20\n",
       "                 2.5 baths               13\n",
       "                 0 baths                 12\n",
       "                 4 shared baths           9\n",
       "                 3.5 shared baths         9\n",
       "                 6.5 shared baths         7\n",
       "                 5 shared baths           6\n",
       "                 0 shared baths           5\n",
       "                 Shared half-bath         5\n",
       "                 9 baths                  5\n",
       "                 4 baths                  4\n",
       "                 4.5 shared baths         3\n",
       "                 3.5 baths                3\n",
       "                 8 baths                  2\n",
       "                 Half-bath                2\n",
       "                 7 baths                  2\n",
       "                 6 shared baths           2\n",
       "                 5 baths                  2\n",
       "                 Private half-bath        1\n",
       "                 8.5 shared baths         1\n",
       "                 7 shared baths           1\n",
       "                 6 baths                  1\n",
       "                 5.5 shared baths         1\n",
       "                 22 baths                 1\n",
       "Shared room      1 shared bath           45\n",
       "                 2 shared baths          10\n",
       "                 4 shared baths           7\n",
       "                 3 shared baths           6\n",
       "                 2.5 shared baths         6\n",
       "                 1.5 shared baths         4\n",
       "                 0 shared baths           3\n",
       "                 9 shared baths           3\n",
       "                 6 shared baths           2\n",
       "                 8 shared baths           1\n",
       "Name: count, dtype: int64"
      ]
     },
     "execution_count": 38,
     "metadata": {},
     "output_type": "execute_result"
    }
   ],
   "source": [
    "# Checking bathrooms_text by room_type\n",
    "df.groupby('room_type').bathrooms_text.value_counts()"
   ]
  },
  {
   "cell_type": "code",
   "execution_count": 39,
   "id": "6950ee13-1306-4794-8f78-905632bbcf00",
   "metadata": {
    "scrolled": true,
    "tags": []
   },
   "outputs": [
    {
     "name": "stdout",
     "output_type": "stream",
     "text": [
      "4772    2\n",
      "Name: accommodates, dtype: int64\n",
      "4857    2\n",
      "Name: accommodates, dtype: int64\n",
      "126      3\n",
      "2222     2\n",
      "2240     2\n",
      "2735     2\n",
      "3013     2\n",
      "3623     2\n",
      "4443     2\n",
      "16099    2\n",
      "16770    4\n",
      "26109    3\n",
      "27546    3\n",
      "27720    2\n",
      "27798    2\n",
      "27813    4\n",
      "28607    4\n",
      "28608    4\n",
      "28613    2\n",
      "28617    2\n",
      "28619    2\n",
      "28624    2\n",
      "28628    2\n",
      "28631    2\n",
      "28633    3\n",
      "28635    3\n",
      "28641    3\n",
      "28704    2\n",
      "29292    2\n",
      "Name: accommodates, dtype: int64\n",
      "495      6\n",
      "829      2\n",
      "3210     3\n",
      "5182     3\n",
      "5196     2\n",
      "6195     3\n",
      "6229     2\n",
      "12367    2\n",
      "Name: accommodates, dtype: int64\n",
      "25225    2\n",
      "25258    2\n",
      "25286    2\n",
      "25363    2\n",
      "25423    2\n",
      "Name: accommodates, dtype: int64\n",
      "18797    4\n",
      "24186    4\n",
      "26355    4\n",
      "Name: accommodates, dtype: int64\n"
     ]
    }
   ],
   "source": [
    "# Checking strange values in column\n",
    "print(df[df.bathrooms_text == '22 baths'].accommodates)\n",
    "print(df[df.bathrooms_text == 'Private half-bath'].accommodates)\n",
    "print(df[df.bathrooms_text == '0 baths'].accommodates)\n",
    "print(df[df.bathrooms_text == '0 shared baths'].accommodates)\n",
    "print(df[df.bathrooms_text == '9 baths'].accommodates)\n",
    "print(df[df.bathrooms_text == '9 shared baths'].accommodates)"
   ]
  },
  {
   "cell_type": "markdown",
   "id": "7f850e2d-470d-4284-be1e-eddcb71cb544",
   "metadata": {},
   "source": [
    "For each of these strange values observed within the `bathrooms_text` column, the following can be inferred:\n",
    "- '22 baths' is an error and should be 2 baths\n",
    "- 'Private half-bath' does not appear to be a mistake\n",
    "- '0 baths' and '0 shared baths' do not appear to be mistakes\n",
    "- '9 shared baths' and '9 baths' are strange but could be correct and will be maintained\n",
    "\n",
    "The `bathrooms_text` column will be renamed to `bathrooms` (a column of the same name was dropped earlier for being fully null) and converted to float values and the null values will be imputed with the mean values for their respective `accommodates` column as done previously with other colusmn. A flag variable `flag_bathrooms` will be created to account for this. Also, a dummy variable `d_shared_bath` will be created as well to account for listings that have shared bathrooms."
   ]
  },
  {
   "cell_type": "code",
   "execution_count": 40,
   "id": "8e7db701-3bca-4e00-80c2-c8e57a8c8996",
   "metadata": {
    "tags": []
   },
   "outputs": [],
   "source": [
    "# Renaming bathrooms_text column to bathrooms\n",
    "df.rename(columns={'bathrooms_text': 'bathrooms'}, inplace=True)\n",
    "\n",
    "# Changing values in bathrooms as mentioned above\n",
    "replacement_map = {\n",
    "    '22 baths': '2 baths',\n",
    "    'Private half-bath': '.5 half-bath',\n",
    "    'Half-bath': '.5 baths',\n",
    "    'Shared half-bath': '.5 shared bath'}\n",
    "df['bathrooms'] = df.bathrooms.replace(replacement_map)\n",
    "\n",
    "# Filling in null values in bathrooms with a temp value of 30 baths\n",
    "df.bathrooms.fillna('30 baths', inplace=True)\n",
    "\n",
    "# Creating dummy variable 'd_shared_bath' that is 1 when bathrooms has the word 'shared' in it, 0 if not\n",
    "df['d_shared_bath'] = df.bathrooms.str.contains('shared').astype(int)\n",
    "\n",
    "# Changing bathrooms to float values, reverting null values to null values, and then imputing the mean per accommodates to those null values\n",
    "df['bathrooms'] = [float(bath.split()[0]) for bath in df.bathrooms]\n",
    "df['bathrooms'] = df.bathrooms.replace('30.0', np.nan)\n",
    "for accommodates, mean_baths in df.groupby('accommodates').bathrooms.mean().items():\n",
    "    df.loc[(df.accommodates == accommodates) & df.bathrooms.isna(), 'bathrooms'] = float(round(mean_baths))"
   ]
  },
  {
   "cell_type": "code",
   "execution_count": 41,
   "id": "586fbc44-f70e-4f19-bcd8-3816999ab9ef",
   "metadata": {
    "tags": []
   },
   "outputs": [],
   "source": [
    "# Same issue for beds, imputing mean rounded values for beds per accommodates. First creating flag variable flag_beds for imputed values\n",
    "df['flag_beds'] = df.beds.isna().astype(int)\n",
    "\n",
    "for accommodates, mean_beds in df.groupby('accommodates').beds.mean().items():\n",
    "    df.loc[(df.accommodates == accommodates) & df.beds.isna(), 'beds'] = round(mean_beds)"
   ]
  },
  {
   "cell_type": "markdown",
   "id": "f73d5166-fec8-403c-8949-0e1cff73fd90",
   "metadata": {
    "tags": []
   },
   "source": [
    "The remaining null values in all the `review_scores` columns have non-zero values in `number_of_reviews` and cannot be rectified. Dropping all of these null values."
   ]
  },
  {
   "cell_type": "code",
   "execution_count": 42,
   "id": "09972dcd-0c84-423d-a6f5-84055877bf48",
   "metadata": {
    "tags": []
   },
   "outputs": [],
   "source": [
    "# Dropping remaining null values in review_scores columns\n",
    "df.dropna(subset=df.columns[df.columns.str.startswith('review_scores')], inplace=True)"
   ]
  },
  {
   "cell_type": "code",
   "execution_count": 43,
   "id": "57f90bab-8e74-44f3-98e4-2ac50219e226",
   "metadata": {
    "tags": []
   },
   "outputs": [
    {
     "data": {
      "text/plain": [
       "id                           0\n",
       "review_scores_cleanliness    0\n",
       "review_scores_rating         0\n",
       "last_review                  0\n",
       "first_review                 0\n",
       "                            ..\n",
       "neighborhood_cleansed        0\n",
       "host_identity_verified       0\n",
       "host_has_profile_pic         0\n",
       "host_verifications           0\n",
       "flag_beds                    0\n",
       "Length: 75, dtype: int64"
      ]
     },
     "execution_count": 43,
     "metadata": {},
     "output_type": "execute_result"
    }
   ],
   "source": [
    "# Checking to see remaining null values, if any\n",
    "df.isna().sum().sort_values(ascending=False)"
   ]
  },
  {
   "cell_type": "markdown",
   "id": "cb2613b1-afd1-423f-9641-ecd4e51f2497",
   "metadata": {},
   "source": [
    "Within the dataset the following columns are \"boolean\" with a string value of 't' or 'f':\n",
    "- `host_has_profile_pic`\n",
    "- `host_identity_verified`\n",
    "- `has_availability`\n",
    "- `instant_bookable`\n",
    "\n",
    "Converting these to columns to binary"
   ]
  },
  {
   "cell_type": "code",
   "execution_count": 48,
   "id": "c4987123-646a-48a5-aeab-5db4007e04df",
   "metadata": {
    "tags": []
   },
   "outputs": [],
   "source": [
    "# Columns to update\n",
    "update_cols = ['host_has_profile_pic', 'host_identity_verified', 'has_availability', 'instant_bookable']\n",
    "\n",
    "# Converting all columns to binary\n",
    "for column in update_cols:\n",
    "    df[column] = df[column].replace('t', 1).replace('f', 0)"
   ]
  },
  {
   "cell_type": "code",
   "execution_count": 58,
   "id": "29f0a127-0660-4a6a-a8f3-ba0b2c2e3e5d",
   "metadata": {
    "tags": []
   },
   "outputs": [],
   "source": [
    "test = [x for x in df.amenities]\n",
    "lengths = [len(x) for x in df.amenities]"
   ]
  },
  {
   "cell_type": "code",
   "execution_count": 61,
   "id": "67fe4fbc-666c-47bb-a605-4af4ea3b6050",
   "metadata": {
    "tags": []
   },
   "outputs": [],
   "source": [
    "avg = sum(lengths)/len(lengths)"
   ]
  },
  {
   "cell_type": "code",
   "execution_count": 63,
   "id": "eeead3b1-a10c-4cf7-96da-5caa57523934",
   "metadata": {
    "tags": []
   },
   "outputs": [
    {
     "data": {
      "text/plain": [
       "13436"
      ]
     },
     "execution_count": 63,
     "metadata": {},
     "output_type": "execute_result"
    }
   ],
   "source": [
    "len([x for x in lengths if x > avg])"
   ]
  },
  {
   "cell_type": "code",
   "execution_count": 64,
   "id": "25434542-3090-49e6-9f27-be5e1dac834d",
   "metadata": {
    "tags": []
   },
   "outputs": [
    {
     "data": {
      "text/plain": [
       "'[\"Dining table\", \"Kitchen\", \"Freezer\", \"Safe\", \"Extra pillows and blankets\", \"Shared hot tub - open specific hours\", \"Air conditioning\", \"Bidet\", \"Bed linens\", \"Paid street parking off premises\", \"Coffee maker\", \"Paid washer \\\\u2013 In building\", \"Shared backyard \\\\u2013 Fully fenced\", \"Hair dryer\", \"Cooking basics\", \"Body soap\", \"Elevator\", \"Drying rack for clothing\", \"Bathtub\", \"Dishes and silverware\", \"Shared pool\", \"Laundromat nearby\", \"Stove\", \"Wine glasses\", \"Room-darkening shades\", \"Long term stays allowed\", \"Hot water\", \"TV with standard cable\", \"Paid dryer \\\\u2013 In building\", \"Shared sauna\", \"Microwave\", \"Cleaning products\", \"Private entrance\", \"Gym\", \"Private patio or balcony\", \"Essentials\", \"Clothing storage: closet and dresser\", \"Host greets you\", \"Outdoor furniture\", \"Refrigerator\", \"Heating\", \"Hangers\", \"Oven\", \"Toaster\", \"Wifi\", \"Single level home\", \"Iron\", \"Books and reading material\"]'"
      ]
     },
     "execution_count": 64,
     "metadata": {},
     "output_type": "execute_result"
    }
   ],
   "source": [
    "test[0]"
   ]
  },
  {
   "cell_type": "code",
   "execution_count": 67,
   "id": "6c9bb5e7-2302-4f29-b58d-5b8977d0d7ae",
   "metadata": {
    "tags": []
   },
   "outputs": [],
   "source": [
    "from langdetect import detect"
   ]
  },
  {
   "cell_type": "code",
   "execution_count": null,
   "id": "830736bd-8fc6-4123-8cc1-d3f23dd7a270",
   "metadata": {},
   "outputs": [],
   "source": []
  }
 ],
 "metadata": {
  "kernelspec": {
   "display_name": "Python 3 (ipykernel)",
   "language": "python",
   "name": "python3"
  },
  "language_info": {
   "codemirror_mode": {
    "name": "ipython",
    "version": 3
   },
   "file_extension": ".py",
   "mimetype": "text/x-python",
   "name": "python",
   "nbconvert_exporter": "python",
   "pygments_lexer": "ipython3",
   "version": "3.11.5"
  }
 },
 "nbformat": 4,
 "nbformat_minor": 5
}
