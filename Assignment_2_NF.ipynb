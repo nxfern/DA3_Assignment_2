{
 "cells": [
  {
   "cell_type": "markdown",
   "id": "de89d79a-38a8-4cc3-b796-cbb1e8d58f11",
   "metadata": {},
   "source": [
    "# DA3 Assignment 2\n",
    "## AirBnB Price Prediction - Buenos Aires\n",
    "### Data from September 22, 2023\n",
    "#### Nicolas Fernandez\n",
    "The goal of this assignment is to build a price prediction model for small and mid-sized apartments that can host 2-6 guests in Buenos Aires. Several models will be constructed using different methods for comparison. Descriptions of each column available within the data can be found in detial at this link: https://docs.google.com/spreadsheets/d/1iWCNJcSutYqpULSQHlNyGInUvHg2BoUGoNRIGa6Szc4/edit#gid=1322284596"
   ]
  },
  {
   "cell_type": "code",
   "execution_count": 1,
   "id": "2b37db73-30fa-484d-8bf6-566343cf7df0",
   "metadata": {
    "tags": []
   },
   "outputs": [],
   "source": [
    "# Importing libraries\n",
    "import warnings\n",
    "warnings.filterwarnings('ignore')\n",
    "\n",
    "import pandas as pd\n",
    "import numpy as np\n",
    "import os\n",
    "from pathlib import Path\n",
    "import sys\n",
    "from patsy import dmatrices\n",
    "from sklearn.model_selection import train_test_split\n",
    "import matplotlib.pyplot as plt\n",
    "import seaborn as sns\n",
    "\n",
    "from sklearn.ensemble import RandomForestRegressor\n",
    "from sklearn.model_selection import GridSearchCV\n",
    "from sklearn.model_selection import RandomizedSearchCV\n",
    "from sklearn.impute import SimpleImputer\n",
    "from sklearn.inspection import permutation_importance\n",
    "from sklearn.inspection import PartialDependenceDisplay\n",
    "from sklearn.inspection import partial_dependence\n",
    "from sklearn.compose import ColumnTransformer\n",
    "from sklearn.pipeline import Pipeline\n",
    "from sklearn.preprocessing import OneHotEncoder\n",
    "from sklearn.metrics import mean_squared_error"
   ]
  },
  {
   "cell_type": "markdown",
   "id": "44e669ba-09ae-4596-8748-550f696595b7",
   "metadata": {},
   "source": [
    "## Get Data"
   ]
  },
  {
   "cell_type": "code",
   "execution_count": 2,
   "id": "e59819c4-1ae1-41b2-9bbd-a7d7d59ea04e",
   "metadata": {
    "tags": []
   },
   "outputs": [],
   "source": [
    "# Reading data from github\n",
    "data = pd.read_csv('https://raw.githubusercontent.com/nxfern/DA3_Assignment_2/main/listings.csv')"
   ]
  },
  {
   "cell_type": "code",
   "execution_count": 3,
   "id": "32b96dee-c42f-43af-9bf9-6bfdd72eee86",
   "metadata": {
    "scrolled": true,
    "tags": []
   },
   "outputs": [
    {
     "name": "stdout",
     "output_type": "stream",
     "text": [
      "(29346, 75)\n"
     ]
    },
    {
     "data": {
      "text/html": [
       "<div>\n",
       "<style scoped>\n",
       "    .dataframe tbody tr th:only-of-type {\n",
       "        vertical-align: middle;\n",
       "    }\n",
       "\n",
       "    .dataframe tbody tr th {\n",
       "        vertical-align: top;\n",
       "    }\n",
       "\n",
       "    .dataframe thead th {\n",
       "        text-align: right;\n",
       "    }\n",
       "</style>\n",
       "<table border=\"1\" class=\"dataframe\">\n",
       "  <thead>\n",
       "    <tr style=\"text-align: right;\">\n",
       "      <th></th>\n",
       "      <th>id</th>\n",
       "      <th>listing_url</th>\n",
       "      <th>scrape_id</th>\n",
       "      <th>last_scraped</th>\n",
       "      <th>source</th>\n",
       "      <th>name</th>\n",
       "      <th>description</th>\n",
       "      <th>neighborhood_overview</th>\n",
       "      <th>picture_url</th>\n",
       "      <th>host_id</th>\n",
       "      <th>...</th>\n",
       "      <th>review_scores_communication</th>\n",
       "      <th>review_scores_location</th>\n",
       "      <th>review_scores_value</th>\n",
       "      <th>license</th>\n",
       "      <th>instant_bookable</th>\n",
       "      <th>calculated_host_listings_count</th>\n",
       "      <th>calculated_host_listings_count_entire_homes</th>\n",
       "      <th>calculated_host_listings_count_private_rooms</th>\n",
       "      <th>calculated_host_listings_count_shared_rooms</th>\n",
       "      <th>reviews_per_month</th>\n",
       "    </tr>\n",
       "  </thead>\n",
       "  <tbody>\n",
       "    <tr>\n",
       "      <th>0</th>\n",
       "      <td>11508</td>\n",
       "      <td>https://www.airbnb.com/rooms/11508</td>\n",
       "      <td>20230922223302</td>\n",
       "      <td>2023-09-23</td>\n",
       "      <td>city scrape</td>\n",
       "      <td>Condo in Buenos Aires · ★4.81 · 1 bedroom · 1 ...</td>\n",
       "      <td>LUXURIOUS 1 BDRM APT- POOL/ GYM/ SPA/ 24-HR SE...</td>\n",
       "      <td>AREA: PALERMO SOHO&lt;br /&gt;&lt;br /&gt;Minutes walking ...</td>\n",
       "      <td>https://a0.muscache.com/pictures/19357696/b1de...</td>\n",
       "      <td>42762</td>\n",
       "      <td>...</td>\n",
       "      <td>4.97</td>\n",
       "      <td>4.94</td>\n",
       "      <td>4.89</td>\n",
       "      <td>NaN</td>\n",
       "      <td>f</td>\n",
       "      <td>1</td>\n",
       "      <td>1</td>\n",
       "      <td>0</td>\n",
       "      <td>0</td>\n",
       "      <td>0.26</td>\n",
       "    </tr>\n",
       "    <tr>\n",
       "      <th>1</th>\n",
       "      <td>107259</td>\n",
       "      <td>https://www.airbnb.com/rooms/107259</td>\n",
       "      <td>20230922223302</td>\n",
       "      <td>2023-09-23</td>\n",
       "      <td>city scrape</td>\n",
       "      <td>Rental unit in Buenos Aires · ★4.58 · 6 bedroo...</td>\n",
       "      <td>We have 7 bedrooms and 5 bathrooms,gourmet kit...</td>\n",
       "      <td>NaN</td>\n",
       "      <td>https://a0.muscache.com/pictures/822490/5bc2ab...</td>\n",
       "      <td>555693</td>\n",
       "      <td>...</td>\n",
       "      <td>4.71</td>\n",
       "      <td>4.63</td>\n",
       "      <td>4.53</td>\n",
       "      <td>NaN</td>\n",
       "      <td>f</td>\n",
       "      <td>2</td>\n",
       "      <td>2</td>\n",
       "      <td>0</td>\n",
       "      <td>0</td>\n",
       "      <td>0.28</td>\n",
       "    </tr>\n",
       "    <tr>\n",
       "      <th>2</th>\n",
       "      <td>14222</td>\n",
       "      <td>https://www.airbnb.com/rooms/14222</td>\n",
       "      <td>20230922223302</td>\n",
       "      <td>2023-09-23</td>\n",
       "      <td>city scrape</td>\n",
       "      <td>Rental unit in Palermo/Buenos Aires · ★4.79 · ...</td>\n",
       "      <td>Beautiful cozy apartment in excellent location...</td>\n",
       "      <td>Palermo is such a perfect place to explore the...</td>\n",
       "      <td>https://a0.muscache.com/pictures/4695637/bbae8...</td>\n",
       "      <td>87710233</td>\n",
       "      <td>...</td>\n",
       "      <td>4.90</td>\n",
       "      <td>4.89</td>\n",
       "      <td>4.75</td>\n",
       "      <td>NaN</td>\n",
       "      <td>f</td>\n",
       "      <td>7</td>\n",
       "      <td>7</td>\n",
       "      <td>0</td>\n",
       "      <td>0</td>\n",
       "      <td>0.81</td>\n",
       "    </tr>\n",
       "    <tr>\n",
       "      <th>3</th>\n",
       "      <td>15074</td>\n",
       "      <td>https://www.airbnb.com/rooms/15074</td>\n",
       "      <td>20230922223302</td>\n",
       "      <td>2023-09-23</td>\n",
       "      <td>previous scrape</td>\n",
       "      <td>Rental unit in Buenos Aires · 1 bedroom · 1 be...</td>\n",
       "      <td>&lt;b&gt;The space&lt;/b&gt;&lt;br /&gt;I OFFER A ROOM IN MY APA...</td>\n",
       "      <td>NaN</td>\n",
       "      <td>https://a0.muscache.com/pictures/91166/c0fdcb4...</td>\n",
       "      <td>59338</td>\n",
       "      <td>...</td>\n",
       "      <td>NaN</td>\n",
       "      <td>NaN</td>\n",
       "      <td>NaN</td>\n",
       "      <td>NaN</td>\n",
       "      <td>f</td>\n",
       "      <td>1</td>\n",
       "      <td>0</td>\n",
       "      <td>1</td>\n",
       "      <td>0</td>\n",
       "      <td>NaN</td>\n",
       "    </tr>\n",
       "    <tr>\n",
       "      <th>4</th>\n",
       "      <td>108089</td>\n",
       "      <td>https://www.airbnb.com/rooms/108089</td>\n",
       "      <td>20230922223302</td>\n",
       "      <td>2023-09-23</td>\n",
       "      <td>city scrape</td>\n",
       "      <td>Rental unit in Buenos Aires · ★4.59 · 1 bedroo...</td>\n",
       "      <td>Amazing apartment in the best area of Palermo....</td>\n",
       "      <td>Palermo is the best neighborhhod in the city.&lt;...</td>\n",
       "      <td>https://a0.muscache.com/pictures/717831/fbb7cd...</td>\n",
       "      <td>559463</td>\n",
       "      <td>...</td>\n",
       "      <td>4.77</td>\n",
       "      <td>4.94</td>\n",
       "      <td>4.66</td>\n",
       "      <td>NaN</td>\n",
       "      <td>f</td>\n",
       "      <td>4</td>\n",
       "      <td>4</td>\n",
       "      <td>0</td>\n",
       "      <td>0</td>\n",
       "      <td>0.77</td>\n",
       "    </tr>\n",
       "  </tbody>\n",
       "</table>\n",
       "<p>5 rows × 75 columns</p>\n",
       "</div>"
      ],
      "text/plain": [
       "       id                          listing_url       scrape_id last_scraped  \\\n",
       "0   11508   https://www.airbnb.com/rooms/11508  20230922223302   2023-09-23   \n",
       "1  107259  https://www.airbnb.com/rooms/107259  20230922223302   2023-09-23   \n",
       "2   14222   https://www.airbnb.com/rooms/14222  20230922223302   2023-09-23   \n",
       "3   15074   https://www.airbnb.com/rooms/15074  20230922223302   2023-09-23   \n",
       "4  108089  https://www.airbnb.com/rooms/108089  20230922223302   2023-09-23   \n",
       "\n",
       "            source                                               name  \\\n",
       "0      city scrape  Condo in Buenos Aires · ★4.81 · 1 bedroom · 1 ...   \n",
       "1      city scrape  Rental unit in Buenos Aires · ★4.58 · 6 bedroo...   \n",
       "2      city scrape  Rental unit in Palermo/Buenos Aires · ★4.79 · ...   \n",
       "3  previous scrape  Rental unit in Buenos Aires · 1 bedroom · 1 be...   \n",
       "4      city scrape  Rental unit in Buenos Aires · ★4.59 · 1 bedroo...   \n",
       "\n",
       "                                         description  \\\n",
       "0  LUXURIOUS 1 BDRM APT- POOL/ GYM/ SPA/ 24-HR SE...   \n",
       "1  We have 7 bedrooms and 5 bathrooms,gourmet kit...   \n",
       "2  Beautiful cozy apartment in excellent location...   \n",
       "3  <b>The space</b><br />I OFFER A ROOM IN MY APA...   \n",
       "4  Amazing apartment in the best area of Palermo....   \n",
       "\n",
       "                               neighborhood_overview  \\\n",
       "0  AREA: PALERMO SOHO<br /><br />Minutes walking ...   \n",
       "1                                                NaN   \n",
       "2  Palermo is such a perfect place to explore the...   \n",
       "3                                                NaN   \n",
       "4  Palermo is the best neighborhhod in the city.<...   \n",
       "\n",
       "                                         picture_url   host_id  ...  \\\n",
       "0  https://a0.muscache.com/pictures/19357696/b1de...     42762  ...   \n",
       "1  https://a0.muscache.com/pictures/822490/5bc2ab...    555693  ...   \n",
       "2  https://a0.muscache.com/pictures/4695637/bbae8...  87710233  ...   \n",
       "3  https://a0.muscache.com/pictures/91166/c0fdcb4...     59338  ...   \n",
       "4  https://a0.muscache.com/pictures/717831/fbb7cd...    559463  ...   \n",
       "\n",
       "  review_scores_communication review_scores_location review_scores_value  \\\n",
       "0                        4.97                   4.94                4.89   \n",
       "1                        4.71                   4.63                4.53   \n",
       "2                        4.90                   4.89                4.75   \n",
       "3                         NaN                    NaN                 NaN   \n",
       "4                        4.77                   4.94                4.66   \n",
       "\n",
       "  license instant_bookable calculated_host_listings_count  \\\n",
       "0     NaN                f                              1   \n",
       "1     NaN                f                              2   \n",
       "2     NaN                f                              7   \n",
       "3     NaN                f                              1   \n",
       "4     NaN                f                              4   \n",
       "\n",
       "  calculated_host_listings_count_entire_homes  \\\n",
       "0                                           1   \n",
       "1                                           2   \n",
       "2                                           7   \n",
       "3                                           0   \n",
       "4                                           4   \n",
       "\n",
       "  calculated_host_listings_count_private_rooms  \\\n",
       "0                                            0   \n",
       "1                                            0   \n",
       "2                                            0   \n",
       "3                                            1   \n",
       "4                                            0   \n",
       "\n",
       "  calculated_host_listings_count_shared_rooms reviews_per_month  \n",
       "0                                           0              0.26  \n",
       "1                                           0              0.28  \n",
       "2                                           0              0.81  \n",
       "3                                           0               NaN  \n",
       "4                                           0              0.77  \n",
       "\n",
       "[5 rows x 75 columns]"
      ]
     },
     "execution_count": 3,
     "metadata": {},
     "output_type": "execute_result"
    }
   ],
   "source": [
    "# Viewing shape and first 5 observations\n",
    "print(data.shape)\n",
    "data.head()"
   ]
  },
  {
   "cell_type": "code",
   "execution_count": 4,
   "id": "e1ac0b83-2930-4ef9-a0a6-d238808aa861",
   "metadata": {
    "scrolled": true,
    "tags": []
   },
   "outputs": [
    {
     "name": "stdout",
     "output_type": "stream",
     "text": [
      "<class 'pandas.core.frame.DataFrame'>\n",
      "RangeIndex: 29346 entries, 0 to 29345\n",
      "Data columns (total 75 columns):\n",
      " #   Column                                        Non-Null Count  Dtype  \n",
      "---  ------                                        --------------  -----  \n",
      " 0   id                                            29346 non-null  int64  \n",
      " 1   listing_url                                   29346 non-null  object \n",
      " 2   scrape_id                                     29346 non-null  int64  \n",
      " 3   last_scraped                                  29346 non-null  object \n",
      " 4   source                                        29346 non-null  object \n",
      " 5   name                                          29346 non-null  object \n",
      " 6   description                                   28747 non-null  object \n",
      " 7   neighborhood_overview                         16259 non-null  object \n",
      " 8   picture_url                                   29346 non-null  object \n",
      " 9   host_id                                       29346 non-null  int64  \n",
      " 10  host_url                                      29346 non-null  object \n",
      " 11  host_name                                     29346 non-null  object \n",
      " 12  host_since                                    29346 non-null  object \n",
      " 13  host_location                                 22754 non-null  object \n",
      " 14  host_about                                    16338 non-null  object \n",
      " 15  host_response_time                            25621 non-null  object \n",
      " 16  host_response_rate                            25621 non-null  object \n",
      " 17  host_acceptance_rate                          26819 non-null  object \n",
      " 18  host_is_superhost                             27893 non-null  object \n",
      " 19  host_thumbnail_url                            29346 non-null  object \n",
      " 20  host_picture_url                              29346 non-null  object \n",
      " 21  host_neighbourhood                            19698 non-null  object \n",
      " 22  host_listings_count                           29346 non-null  int64  \n",
      " 23  host_total_listings_count                     29346 non-null  int64  \n",
      " 24  host_verifications                            29346 non-null  object \n",
      " 25  host_has_profile_pic                          29346 non-null  object \n",
      " 26  host_identity_verified                        29346 non-null  object \n",
      " 27  neighbourhood                                 16259 non-null  object \n",
      " 28  neighbourhood_cleansed                        29346 non-null  object \n",
      " 29  neighbourhood_group_cleansed                  0 non-null      float64\n",
      " 30  latitude                                      29346 non-null  float64\n",
      " 31  longitude                                     29346 non-null  float64\n",
      " 32  property_type                                 29346 non-null  object \n",
      " 33  room_type                                     29346 non-null  object \n",
      " 34  accommodates                                  29346 non-null  int64  \n",
      " 35  bathrooms                                     0 non-null      float64\n",
      " 36  bathrooms_text                                29322 non-null  object \n",
      " 37  bedrooms                                      23221 non-null  float64\n",
      " 38  beds                                          29085 non-null  float64\n",
      " 39  amenities                                     29346 non-null  object \n",
      " 40  price                                         29346 non-null  object \n",
      " 41  minimum_nights                                29346 non-null  int64  \n",
      " 42  maximum_nights                                29346 non-null  int64  \n",
      " 43  minimum_minimum_nights                        29346 non-null  int64  \n",
      " 44  maximum_minimum_nights                        29346 non-null  int64  \n",
      " 45  minimum_maximum_nights                        29346 non-null  int64  \n",
      " 46  maximum_maximum_nights                        29346 non-null  int64  \n",
      " 47  minimum_nights_avg_ntm                        29346 non-null  float64\n",
      " 48  maximum_nights_avg_ntm                        29346 non-null  float64\n",
      " 49  calendar_updated                              0 non-null      float64\n",
      " 50  has_availability                              29346 non-null  object \n",
      " 51  availability_30                               29346 non-null  int64  \n",
      " 52  availability_60                               29346 non-null  int64  \n",
      " 53  availability_90                               29346 non-null  int64  \n",
      " 54  availability_365                              29346 non-null  int64  \n",
      " 55  calendar_last_scraped                         29346 non-null  object \n",
      " 56  number_of_reviews                             29346 non-null  int64  \n",
      " 57  number_of_reviews_ltm                         29346 non-null  int64  \n",
      " 58  number_of_reviews_l30d                        29346 non-null  int64  \n",
      " 59  first_review                                  23841 non-null  object \n",
      " 60  last_review                                   23841 non-null  object \n",
      " 61  review_scores_rating                          23843 non-null  float64\n",
      " 62  review_scores_accuracy                        23767 non-null  float64\n",
      " 63  review_scores_cleanliness                     23765 non-null  float64\n",
      " 64  review_scores_checkin                         23766 non-null  float64\n",
      " 65  review_scores_communication                   23768 non-null  float64\n",
      " 66  review_scores_location                        23767 non-null  float64\n",
      " 67  review_scores_value                           23767 non-null  float64\n",
      " 68  license                                       445 non-null    object \n",
      " 69  instant_bookable                              29346 non-null  object \n",
      " 70  calculated_host_listings_count                29346 non-null  int64  \n",
      " 71  calculated_host_listings_count_entire_homes   29346 non-null  int64  \n",
      " 72  calculated_host_listings_count_private_rooms  29346 non-null  int64  \n",
      " 73  calculated_host_listings_count_shared_rooms   29346 non-null  int64  \n",
      " 74  reviews_per_month                             23841 non-null  float64\n",
      "dtypes: float64(17), int64(23), object(35)\n",
      "memory usage: 16.8+ MB\n"
     ]
    }
   ],
   "source": [
    "# Viewing information on data types of all columns\n",
    "data.info()"
   ]
  },
  {
   "cell_type": "markdown",
   "id": "c88f51c4-2e54-455b-b479-3c56e1215320",
   "metadata": {
    "tags": []
   },
   "source": [
    "## EDA and Feature Engineering\n",
    "First a filter will be placed to only grab the listings that accommodate at least 2 but no more than 6 people total. From there, data review and cleaning will take place along with the potential creation of dummy variables for further analysis."
   ]
  },
  {
   "cell_type": "code",
   "execution_count": 5,
   "id": "1475271c-7935-4854-b9cd-ed769a5a61c4",
   "metadata": {
    "tags": []
   },
   "outputs": [
    {
     "name": "stdout",
     "output_type": "stream",
     "text": [
      "(27340, 75)\n"
     ]
    }
   ],
   "source": [
    "# Filtering data to only contain listings that accommodate between 2 and 6 people and assigning it to a new df to work off of. Printing the shape of the new df, deleting initial dataframe that's no longer needed\n",
    "df = data.query('2 <= accommodates <= 6')\n",
    "print(df.shape)\n",
    "del data"
   ]
  },
  {
   "cell_type": "code",
   "execution_count": 6,
   "id": "e81dd7a8-d817-4bcb-a124-b24f2442884c",
   "metadata": {
    "scrolled": true,
    "tags": []
   },
   "outputs": [
    {
     "data": {
      "text/plain": [
       "neighbourhood_group_cleansed    27340\n",
       "bathrooms                       27340\n",
       "calendar_updated                27340\n",
       "license                         26932\n",
       "host_about                      12298\n",
       "neighbourhood                   12195\n",
       "neighborhood_overview           12195\n",
       "host_neighbourhood               9052\n",
       "host_location                    6300\n",
       "review_scores_checkin            5022\n",
       "review_scores_cleanliness        5022\n",
       "review_scores_accuracy           5021\n",
       "review_scores_location           5021\n",
       "review_scores_value              5021\n",
       "review_scores_communication      5020\n",
       "first_review                     4969\n",
       "last_review                      4969\n",
       "reviews_per_month                4969\n",
       "review_scores_rating             4967\n",
       "bedrooms                         4944\n",
       "host_response_rate               3342\n",
       "host_response_time               3342\n",
       "host_acceptance_rate             2292\n",
       "host_is_superhost                1400\n",
       "description                       569\n",
       "beds                              233\n",
       "bathrooms_text                     15\n",
       "availability_60                     0\n",
       "availability_90                     0\n",
       "availability_365                    0\n",
       "dtype: int64"
      ]
     },
     "execution_count": 6,
     "metadata": {},
     "output_type": "execute_result"
    }
   ],
   "source": [
    "# Checking sum of all null values, sorted by descending order\n",
    "df.isna().sum().sort_values(ascending=False).head(30)"
   ]
  },
  {
   "cell_type": "markdown",
   "id": "d08ffe31-2acd-4a00-95af-90ddbdfecbb2",
   "metadata": {},
   "source": [
    "The bathrooms column which indicates how many bathrooms the listing has available is completely null in this dataset. That would otherwise be an important data point for analysis but given that it is completely full of null values, the column will be dropped along with all other columns that are fully or mostly null. The other columns that have many null values include columns with information/data about the host of the listing and not information about the accommodation itself. This includes the neighbourhood the host has reported they reside in, and information about the host. What may be important, however, is the location of the host (`host_location`) so that will be kept. There are other factors within the data concerning the host that are more impactful for analysis, such as whether or not the host is a superhost, therefore these columns will be dropped as well.\n",
    "\n",
    "Null values seen within `host_is_superhost` can be seen as the host not being a superhost. Given as it is a desirable status symbol on AirBnB to be a superhost, if the value is null it can be assumed that it is 0. Null values in that column will be imputed as 0 with a flag variable created."
   ]
  },
  {
   "cell_type": "code",
   "execution_count": 7,
   "id": "b2a6e403-6e23-4310-a500-ed48aa91da3e",
   "metadata": {
    "tags": []
   },
   "outputs": [],
   "source": [
    "# Renaming all columns that say neighbourhood to neihborhood for consistency\n",
    "df.columns = df.columns.str.replace('neighbourhood', 'neighborhood')"
   ]
  },
  {
   "cell_type": "code",
   "execution_count": 8,
   "id": "685864f9-2f48-437a-b749-076d61ddeeba",
   "metadata": {
    "tags": []
   },
   "outputs": [],
   "source": [
    "# Dropping columns that are fully or mostly null values\n",
    "df.drop(['neighborhood_group_cleansed', 'bathrooms', 'calendar_updated', 'license', 'host_about', 'host_neighborhood', 'host_about'], axis=1, inplace=True)"
   ]
  },
  {
   "cell_type": "code",
   "execution_count": 9,
   "id": "784a7422-3acc-4071-b2fb-d6e97ee3414d",
   "metadata": {
    "scrolled": true,
    "tags": []
   },
   "outputs": [
    {
     "data": {
      "text/plain": [
       "neighborhood_cleansed\n",
       "Palermo              9325\n",
       "Recoleta             4077\n",
       "San Nicolas          1622\n",
       "Belgrano             1477\n",
       "Retiro               1332\n",
       "Monserrat            1105\n",
       "Almagro               971\n",
       "Villa Crespo          870\n",
       "Balvanera             833\n",
       "San Telmo             732\n",
       "Colegiales            653\n",
       "Nuñez                 622\n",
       "Caballito             524\n",
       "Chacarita             430\n",
       "Villa Urquiza         338\n",
       "Constitucion          324\n",
       "Puerto Madero         320\n",
       "Barracas              203\n",
       "Saavedra              185\n",
       "San Cristobal         170\n",
       "Flores                122\n",
       "Coghlan               105\n",
       "Villa Ortuzar         104\n",
       "Villa Devoto           96\n",
       "Villa Del Parque       90\n",
       "Boedo                  76\n",
       "Boca                   76\n",
       "Parque Patricios       65\n",
       "Parque Chas            62\n",
       "Parque Chacabuco       61\n",
       "Villa Pueyrredon       52\n",
       "Paternal               43\n",
       "Agronomia              42\n",
       "Floresta               38\n",
       "Villa Santa Rita       36\n",
       "Villa Luro             28\n",
       "Villa Gral. Mitre      27\n",
       "Mataderos              22\n",
       "Liniers                20\n",
       "Velez Sarsfield        18\n",
       "Monte Castro           13\n",
       "Parque Avellaneda      10\n",
       "Nueva Pompeya           8\n",
       "Villa Real              5\n",
       "Villa Lugano            3\n",
       "Versalles               3\n",
       "Villa Riachuelo         1\n",
       "Villa Soldati           1\n",
       "Name: count, dtype: int64"
      ]
     },
     "execution_count": 9,
     "metadata": {},
     "output_type": "execute_result"
    }
   ],
   "source": [
    "# Checking neighborhood_cleansed column for any results outside of Buenos Aires\n",
    "df.neighborhood_cleansed.value_counts()"
   ]
  },
  {
   "cell_type": "markdown",
   "id": "312f15ce-4fc7-418b-8cfb-a876d330bc8c",
   "metadata": {
    "tags": []
   },
   "source": [
    "There are no results outside of Buenos Aires. Also dropping `neighborhood` and `neighborhood_overview` columns as they do not contain new information from `neighborhood_cleansed` and also contain null values."
   ]
  },
  {
   "cell_type": "code",
   "execution_count": 10,
   "id": "59671a54-577f-4983-b18a-1efc8309f516",
   "metadata": {},
   "outputs": [],
   "source": [
    "# Dropping `neighborhood` column\n",
    "df.drop(['neighborhood', 'neighborhood_overview'], axis=1, inplace=True)"
   ]
  },
  {
   "cell_type": "code",
   "execution_count": 11,
   "id": "37fea9ce-1063-410c-b4ff-e618df64ec73",
   "metadata": {
    "tags": []
   },
   "outputs": [
    {
     "data": {
      "text/plain": [
       "room_type\n",
       "Entire home/apt    25765\n",
       "Private room        1432\n",
       "Shared room           87\n",
       "Hotel room            56\n",
       "Name: count, dtype: int64"
      ]
     },
     "execution_count": 11,
     "metadata": {},
     "output_type": "execute_result"
    }
   ],
   "source": [
    "# Checking room_type contents\n",
    "df.room_type.value_counts()"
   ]
  },
  {
   "cell_type": "code",
   "execution_count": 12,
   "id": "0cb7bbfb-7f06-4b66-a1fe-537b518d651f",
   "metadata": {
    "tags": []
   },
   "outputs": [],
   "source": [
    "# Dropping hotels from examination\n",
    "df = df.loc[df['room_type'] != 'Hotel room']"
   ]
  },
  {
   "cell_type": "code",
   "execution_count": 13,
   "id": "cde59988-973a-4dd5-bf4a-0a8d6be61cbd",
   "metadata": {
    "tags": []
   },
   "outputs": [],
   "source": [
    "# Creating flag variable for null values that are to be imputed in host_is_superhost as a binary\n",
    "df['flag_superhost'] = df.host_is_superhost.isna().astype(int)\n",
    "\n",
    "# Changing host_is_superhost to binary with 1 being yes and 0 being no. Imputing 0 for null values.\n",
    "df.host_is_superhost.replace('t', 1, inplace=True)\n",
    "df.host_is_superhost.replace('f', 0, inplace=True)\n",
    "df.host_is_superhost.fillna(0, inplace=True, downcast='infer')"
   ]
  },
  {
   "cell_type": "code",
   "execution_count": 14,
   "id": "778c8bd5-83b4-4284-be2c-dc212985684a",
   "metadata": {
    "tags": []
   },
   "outputs": [
    {
     "data": {
      "text/plain": [
       "flag_superhost\n",
       "0    25884\n",
       "1     1400\n",
       "Name: count, dtype: int64"
      ]
     },
     "execution_count": 14,
     "metadata": {},
     "output_type": "execute_result"
    }
   ],
   "source": [
    "df.flag_superhost.value_counts()"
   ]
  },
  {
   "cell_type": "code",
   "execution_count": 15,
   "id": "d9a4b969-7b2f-4221-b047-fea148a4ed08",
   "metadata": {
    "scrolled": true,
    "tags": []
   },
   "outputs": [
    {
     "name": "stdout",
     "output_type": "stream",
     "text": [
      "(4957, 68)\n"
     ]
    },
    {
     "data": {
      "text/plain": [
       "reviews_per_month              4957\n",
       "first_review                   4957\n",
       "last_review                    4957\n",
       "review_scores_rating           4955\n",
       "review_scores_accuracy         4955\n",
       "review_scores_cleanliness      4955\n",
       "review_scores_checkin          4955\n",
       "review_scores_value            4955\n",
       "review_scores_location         4955\n",
       "review_scores_communication    4955\n",
       "host_location                  1604\n",
       "host_response_rate             1367\n",
       "host_response_time             1367\n",
       "host_acceptance_rate           1255\n",
       "bedrooms                        840\n",
       "description                     117\n",
       "beds                             51\n",
       "bathrooms_text                    6\n",
       "availability_365                  0\n",
       "has_availability                  0\n",
       "maximum_nights_avg_ntm            0\n",
       "minimum_nights_avg_ntm            0\n",
       "maximum_maximum_nights            0\n",
       "availability_30                   0\n",
       "availability_60                   0\n",
       "availability_90                   0\n",
       "id                                0\n",
       "calendar_last_scraped             0\n",
       "number_of_reviews                 0\n",
       "number_of_reviews_ltm             0\n",
       "dtype: int64"
      ]
     },
     "execution_count": 15,
     "metadata": {},
     "output_type": "execute_result"
    }
   ],
   "source": [
    "# Reviewing observations where reviews_per_month are null\n",
    "print(df[df.reviews_per_month.isna() == True].shape) # Printing shape\n",
    "\n",
    "# Creating test df for reviewing null values associated with reviews_per_month when that is null also\n",
    "test = df[df.reviews_per_month.isna() == True]\n",
    "test.isna().sum().sort_values(ascending=False).head(30)"
   ]
  },
  {
   "cell_type": "code",
   "execution_count": 16,
   "id": "1d507aa8-1290-4258-b2a7-e9514b9b503f",
   "metadata": {
    "tags": []
   },
   "outputs": [
    {
     "data": {
      "text/html": [
       "<div>\n",
       "<style scoped>\n",
       "    .dataframe tbody tr th:only-of-type {\n",
       "        vertical-align: middle;\n",
       "    }\n",
       "\n",
       "    .dataframe tbody tr th {\n",
       "        vertical-align: top;\n",
       "    }\n",
       "\n",
       "    .dataframe thead th {\n",
       "        text-align: right;\n",
       "    }\n",
       "</style>\n",
       "<table border=\"1\" class=\"dataframe\">\n",
       "  <thead>\n",
       "    <tr style=\"text-align: right;\">\n",
       "      <th></th>\n",
       "      <th>id</th>\n",
       "      <th>listing_url</th>\n",
       "      <th>scrape_id</th>\n",
       "      <th>last_scraped</th>\n",
       "      <th>source</th>\n",
       "      <th>name</th>\n",
       "      <th>description</th>\n",
       "      <th>picture_url</th>\n",
       "      <th>host_id</th>\n",
       "      <th>host_url</th>\n",
       "      <th>...</th>\n",
       "      <th>review_scores_communication</th>\n",
       "      <th>review_scores_location</th>\n",
       "      <th>review_scores_value</th>\n",
       "      <th>instant_bookable</th>\n",
       "      <th>calculated_host_listings_count</th>\n",
       "      <th>calculated_host_listings_count_entire_homes</th>\n",
       "      <th>calculated_host_listings_count_private_rooms</th>\n",
       "      <th>calculated_host_listings_count_shared_rooms</th>\n",
       "      <th>reviews_per_month</th>\n",
       "      <th>flag_superhost</th>\n",
       "    </tr>\n",
       "  </thead>\n",
       "  <tbody>\n",
       "    <tr>\n",
       "      <th>14380</th>\n",
       "      <td>675897953216372358</td>\n",
       "      <td>https://www.airbnb.com/rooms/675897953216372358</td>\n",
       "      <td>20230922223302</td>\n",
       "      <td>2023-09-24</td>\n",
       "      <td>city scrape</td>\n",
       "      <td>Serviced apartment in Palermo · ★New · 1 bedro...</td>\n",
       "      <td>Disfruta de la sencillez de este alojamiento t...</td>\n",
       "      <td>https://a0.muscache.com/pictures/8f618490-0ad6...</td>\n",
       "      <td>450965790</td>\n",
       "      <td>https://www.airbnb.com/users/show/450965790</td>\n",
       "      <td>...</td>\n",
       "      <td>5.0</td>\n",
       "      <td>5.0</td>\n",
       "      <td>5.0</td>\n",
       "      <td>f</td>\n",
       "      <td>1</td>\n",
       "      <td>1</td>\n",
       "      <td>0</td>\n",
       "      <td>0</td>\n",
       "      <td>NaN</td>\n",
       "      <td>0</td>\n",
       "    </tr>\n",
       "    <tr>\n",
       "      <th>27914</th>\n",
       "      <td>965888041736392206</td>\n",
       "      <td>https://www.airbnb.com/rooms/965888041736392206</td>\n",
       "      <td>20230922223302</td>\n",
       "      <td>2023-09-24</td>\n",
       "      <td>city scrape</td>\n",
       "      <td>Rental unit in Buenos Aires · ★New · 2 bedroom...</td>\n",
       "      <td>Espectacular apartamento de dos habitaciones d...</td>\n",
       "      <td>https://a0.muscache.com/pictures/miso/Hosting-...</td>\n",
       "      <td>533833227</td>\n",
       "      <td>https://www.airbnb.com/users/show/533833227</td>\n",
       "      <td>...</td>\n",
       "      <td>5.0</td>\n",
       "      <td>5.0</td>\n",
       "      <td>5.0</td>\n",
       "      <td>t</td>\n",
       "      <td>1</td>\n",
       "      <td>1</td>\n",
       "      <td>0</td>\n",
       "      <td>0</td>\n",
       "      <td>NaN</td>\n",
       "      <td>0</td>\n",
       "    </tr>\n",
       "  </tbody>\n",
       "</table>\n",
       "<p>2 rows × 68 columns</p>\n",
       "</div>"
      ],
      "text/plain": [
       "                       id                                      listing_url  \\\n",
       "14380  675897953216372358  https://www.airbnb.com/rooms/675897953216372358   \n",
       "27914  965888041736392206  https://www.airbnb.com/rooms/965888041736392206   \n",
       "\n",
       "            scrape_id last_scraped       source  \\\n",
       "14380  20230922223302   2023-09-24  city scrape   \n",
       "27914  20230922223302   2023-09-24  city scrape   \n",
       "\n",
       "                                                    name  \\\n",
       "14380  Serviced apartment in Palermo · ★New · 1 bedro...   \n",
       "27914  Rental unit in Buenos Aires · ★New · 2 bedroom...   \n",
       "\n",
       "                                             description  \\\n",
       "14380  Disfruta de la sencillez de este alojamiento t...   \n",
       "27914  Espectacular apartamento de dos habitaciones d...   \n",
       "\n",
       "                                             picture_url    host_id  \\\n",
       "14380  https://a0.muscache.com/pictures/8f618490-0ad6...  450965790   \n",
       "27914  https://a0.muscache.com/pictures/miso/Hosting-...  533833227   \n",
       "\n",
       "                                          host_url  ...  \\\n",
       "14380  https://www.airbnb.com/users/show/450965790  ...   \n",
       "27914  https://www.airbnb.com/users/show/533833227  ...   \n",
       "\n",
       "      review_scores_communication review_scores_location review_scores_value  \\\n",
       "14380                         5.0                    5.0                 5.0   \n",
       "27914                         5.0                    5.0                 5.0   \n",
       "\n",
       "      instant_bookable calculated_host_listings_count  \\\n",
       "14380                f                              1   \n",
       "27914                t                              1   \n",
       "\n",
       "      calculated_host_listings_count_entire_homes  \\\n",
       "14380                                           1   \n",
       "27914                                           1   \n",
       "\n",
       "       calculated_host_listings_count_private_rooms  \\\n",
       "14380                                             0   \n",
       "27914                                             0   \n",
       "\n",
       "      calculated_host_listings_count_shared_rooms reviews_per_month  \\\n",
       "14380                                           0               NaN   \n",
       "27914                                           0               NaN   \n",
       "\n",
       "       flag_superhost  \n",
       "14380               0  \n",
       "27914               0  \n",
       "\n",
       "[2 rows x 68 columns]"
      ]
     },
     "execution_count": 16,
     "metadata": {},
     "output_type": "execute_result"
    }
   ],
   "source": [
    "# Examining the two non-null values in revew_scores_rating\n",
    "test[test.review_scores_rating.isna() != True]"
   ]
  },
  {
   "cell_type": "code",
   "execution_count": 17,
   "id": "1ec959ec-6bf9-438e-beb1-7e4e66761ffb",
   "metadata": {
    "tags": []
   },
   "outputs": [
    {
     "data": {
      "text/plain": [
       "14380    0\n",
       "27914    0\n",
       "Name: number_of_reviews, dtype: int64"
      ]
     },
     "execution_count": 17,
     "metadata": {},
     "output_type": "execute_result"
    }
   ],
   "source": [
    "# Examing number_of_reviews column in the search above\n",
    "test[test.review_scores_rating.isna() != True]['number_of_reviews']"
   ]
  },
  {
   "cell_type": "code",
   "execution_count": 18,
   "id": "20c24df3-2ebf-43ed-af9b-100550c25f70",
   "metadata": {
    "tags": []
   },
   "outputs": [
    {
     "data": {
      "text/plain": [
       "number_of_reviews\n",
       "0    4957\n",
       "Name: count, dtype: int64"
      ]
     },
     "execution_count": 18,
     "metadata": {},
     "output_type": "execute_result"
    }
   ],
   "source": [
    "# Viewing value counts for `number_of_reviews` column within test df\n",
    "test.number_of_reviews.value_counts()"
   ]
  },
  {
   "cell_type": "markdown",
   "id": "fb63dc18-fec1-4924-8e89-adc6721cb5e5",
   "metadata": {},
   "source": [
    "From the above result we can confirm that for all values in the test df there are no reviews listed within the `number_of_reviews` column. From this it can be inferred that when `first_review`, `last_review`, and `reviews_per_month` are null that it's a brand new listing with no history. These will be imputed with the mean value for each column rather than null and a flag variable will be included called `flag_new_listings` for all imputed variables.\n",
    "\n",
    "For the two observations that do have values for review scores amongst several columns it can be inferred that this was an error. If no reviews were actually left then there can be no review scores for the listing. For these two listings specifically, their values will be corrected and a flag variable `flag_corrected_new_listing` will be created."
   ]
  },
  {
   "cell_type": "code",
   "execution_count": 19,
   "id": "30c23404-c9aa-4a6b-9038-129f478f0574",
   "metadata": {
    "tags": []
   },
   "outputs": [],
   "source": [
    "# Deleting test df\n",
    "del test\n",
    "\n",
    "# Creating flag variable for corrected new listings\n",
    "df['flag_corrected_new_listing'] = df.index.isin([14380, 27914]).astype(int)\n",
    "\n",
    "# Creating index array of columns starting with 'review_scores'\n",
    "columns_to_update = df.columns[df.columns.str.startswith('review_scores')]\n",
    "\n",
    "# Creating for loop to update each column with their mean value for the new listings in these two specific indexes\n",
    "for column in columns_to_update:\n",
    "    df.loc[df.index.isin([14380, 27914]), column] = df[column].mean()\n",
    "\n",
    "# Creating flag variable for imputed null values on first_review, last_review, and reviews_per_month\n",
    "df['flag_new_listings'] = df.reviews_per_month.isna().astype(int)\n",
    "\n",
    "# Filling null values for first_review, last_review, and reviews_per_month with 0\n",
    "df.first_review.fillna(0, inplace=True, downcast='infer')\n",
    "df.last_review.fillna(0, inplace=True, downcast='infer')\n",
    "df.reviews_per_month.fillna(0, inplace=True, downcast='infer')"
   ]
  },
  {
   "cell_type": "code",
   "execution_count": 20,
   "id": "f2e87780-c667-4996-9cef-b064f913af5d",
   "metadata": {
    "tags": []
   },
   "outputs": [
    {
     "data": {
      "text/plain": [
       "host_location                  6291\n",
       "review_scores_checkin          5010\n",
       "review_scores_cleanliness      5010\n",
       "review_scores_value            5009\n",
       "review_scores_accuracy         5009\n",
       "review_scores_location         5009\n",
       "review_scores_communication    5008\n",
       "review_scores_rating           4955\n",
       "bedrooms                       4938\n",
       "host_response_rate             3328\n",
       "host_response_time             3328\n",
       "host_acceptance_rate           2285\n",
       "description                     566\n",
       "beds                            232\n",
       "bathrooms_text                   10\n",
       "availability_90                   0\n",
       "calendar_last_scraped             0\n",
       "availability_365                  0\n",
       "maximum_nights_avg_ntm            0\n",
       "minimum_nights_avg_ntm            0\n",
       "dtype: int64"
      ]
     },
     "execution_count": 20,
     "metadata": {},
     "output_type": "execute_result"
    }
   ],
   "source": [
    "# Rechecking null values\n",
    "df.isna().sum().sort_values(ascending=False).head(20)"
   ]
  },
  {
   "cell_type": "markdown",
   "id": "55a9a580-eb0b-4be2-9cc4-805270afd992",
   "metadata": {},
   "source": [
    "There are still many null values, specifically in the `review_scores` columns. These values will be checked to see if there are reviews or not associated with them"
   ]
  },
  {
   "cell_type": "code",
   "execution_count": 21,
   "id": "01073944-77da-46e8-94a2-9aad7dda621e",
   "metadata": {
    "tags": []
   },
   "outputs": [],
   "source": [
    "# Creating test df again to make data filtering easier\n",
    "test = df[df.review_scores_checkin.isna()]"
   ]
  },
  {
   "cell_type": "code",
   "execution_count": 22,
   "id": "51d4b971-d915-4dda-a6e8-34e8ec889a08",
   "metadata": {
    "tags": []
   },
   "outputs": [
    {
     "data": {
      "text/plain": [
       "review_scores_cleanliness      4955\n",
       "review_scores_value            4955\n",
       "review_scores_rating           4955\n",
       "review_scores_accuracy         4955\n",
       "review_scores_checkin          4955\n",
       "review_scores_communication    4955\n",
       "review_scores_location         4955\n",
       "host_location                  1602\n",
       "host_response_time             1367\n",
       "host_response_rate             1367\n",
       "host_acceptance_rate           1255\n",
       "bedrooms                        840\n",
       "description                     117\n",
       "beds                             51\n",
       "bathrooms_text                    6\n",
       "number_of_reviews_ltm             0\n",
       "availability_60                   0\n",
       "availability_30                   0\n",
       "has_availability                  0\n",
       "availability_90                   0\n",
       "dtype: int64"
      ]
     },
     "execution_count": 22,
     "metadata": {},
     "output_type": "execute_result"
    }
   ],
   "source": [
    "# Setting number_of_reviews column equal to 0 and checking null values when that condition is True\n",
    "test[test.number_of_reviews == 0].isna().sum().sort_values(ascending=False).head(20)"
   ]
  },
  {
   "cell_type": "markdown",
   "id": "7044bbfd-e10b-45dc-8ec0-fe002f43ecd8",
   "metadata": {},
   "source": [
    "Here we can see that for the majority of the null values remaining in the `review_scores` columns are null because they are new listings. Imputing the mean value for review scores for each respective column. They are already withn new listings flag"
   ]
  },
  {
   "cell_type": "code",
   "execution_count": 23,
   "id": "860f18b1-fa50-4121-b842-616ef15d53a7",
   "metadata": {
    "tags": []
   },
   "outputs": [],
   "source": [
    "# Using for loop method used earlier\n",
    "for column in columns_to_update:\n",
    "    df.loc[(df.number_of_reviews == 0), column] = df[column].mean()"
   ]
  },
  {
   "cell_type": "code",
   "execution_count": 24,
   "id": "632818ca-d47c-40b4-b469-49eb69155989",
   "metadata": {
    "tags": []
   },
   "outputs": [],
   "source": [
    "# Deleting test df\n",
    "del test"
   ]
  },
  {
   "cell_type": "code",
   "execution_count": 25,
   "id": "3d7ad2e1-d6e1-46e6-8cfc-2de27436cce6",
   "metadata": {
    "tags": []
   },
   "outputs": [
    {
     "data": {
      "text/plain": [
       "host_location             1604\n",
       "host_response_rate        1367\n",
       "host_response_time        1367\n",
       "host_acceptance_rate      1255\n",
       "bedrooms                   840\n",
       "description                117\n",
       "beds                        51\n",
       "bathrooms_text               6\n",
       "id                           0\n",
       "number_of_reviews_l30d       0\n",
       "number_of_reviews_ltm        0\n",
       "number_of_reviews            0\n",
       "calendar_last_scraped        0\n",
       "availability_365             0\n",
       "availability_90              0\n",
       "last_review                  0\n",
       "availability_60              0\n",
       "availability_30              0\n",
       "has_availability             0\n",
       "maximum_nights_avg_ntm       0\n",
       "dtype: int64"
      ]
     },
     "execution_count": 25,
     "metadata": {},
     "output_type": "execute_result"
    }
   ],
   "source": [
    "df[df.number_of_reviews == 0].isna().sum().sort_values(ascending=False).head(20)"
   ]
  },
  {
   "cell_type": "code",
   "execution_count": null,
   "id": "cffa2c5b-a24b-4ab3-90b4-01fb5d8d77c1",
   "metadata": {},
   "outputs": [],
   "source": []
  }
 ],
 "metadata": {
  "kernelspec": {
   "display_name": "Python 3 (ipykernel)",
   "language": "python",
   "name": "python3"
  },
  "language_info": {
   "codemirror_mode": {
    "name": "ipython",
    "version": 3
   },
   "file_extension": ".py",
   "mimetype": "text/x-python",
   "name": "python",
   "nbconvert_exporter": "python",
   "pygments_lexer": "ipython3",
   "version": "3.11.5"
  }
 },
 "nbformat": 4,
 "nbformat_minor": 5
}
